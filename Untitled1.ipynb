{
  "nbformat": 4,
  "nbformat_minor": 0,
  "metadata": {
    "colab": {
      "provenance": []
    },
    "kernelspec": {
      "name": "python3",
      "display_name": "Python 3"
    },
    "language_info": {
      "name": "python"
    }
  },
  "cells": [
    {
      "cell_type": "code",
      "execution_count": null,
      "metadata": {
        "id": "mcp26DlqyhzD"
      },
      "outputs": [],
      "source": []
    },
    {
      "cell_type": "code",
      "execution_count": null,
      "metadata": {
        "id": "NeRapPQkoHKc"
      },
      "outputs": [],
      "source": []
    },
    {
      "cell_type": "markdown",
      "source": [],
      "metadata": {
        "id": "_Lrf15i7oSqz"
      }
    },
    {
      "cell_type": "code",
      "source": [
        "a = 1\n",
        "b=2\n",
        "print(a+b)"
      ],
      "metadata": {
        "colab": {
          "base_uri": "https://localhost:8080/"
        },
        "id": "olEhLlXYx8IH",
        "outputId": "ad0813d8-6a09-47b2-b74a-97e2cbdb3290"
      },
      "execution_count": null,
      "outputs": [
        {
          "output_type": "stream",
          "name": "stdout",
          "text": [
            "3\n"
          ]
        }
      ]
    },
    {
      "cell_type": "code",
      "source": [],
      "metadata": {
        "id": "NI2S3MuHy4ts"
      },
      "execution_count": null,
      "outputs": []
    },
    {
      "cell_type": "code",
      "source": [
        "!pwd"
      ],
      "metadata": {
        "colab": {
          "base_uri": "https://localhost:8080/"
        },
        "id": "Kp4DOb1dyAiT",
        "outputId": "de531752-dcb5-4c70-a0f9-2a362f09e72f"
      },
      "execution_count": null,
      "outputs": [
        {
          "output_type": "stream",
          "name": "stdout",
          "text": [
            "/content\n"
          ]
        }
      ]
    },
    {
      "cell_type": "code",
      "source": [
        "!git clone https://github.com/zahta/machine-learning.git"
      ],
      "metadata": {
        "colab": {
          "base_uri": "https://localhost:8080/"
        },
        "id": "Wq96o-vpyFfx",
        "outputId": "5e0f7248-62a4-46b5-9b64-3e088114bc12"
      },
      "execution_count": null,
      "outputs": [
        {
          "output_type": "stream",
          "name": "stdout",
          "text": [
            "Cloning into 'machine-learning'...\n",
            "remote: Enumerating objects: 885, done.\u001b[K\n",
            "remote: Counting objects: 100% (199/199), done.\u001b[K\n",
            "remote: Compressing objects: 100% (164/164), done.\u001b[K\n",
            "remote: Total 885 (delta 56), reused 161 (delta 32), pack-reused 686\u001b[K\n",
            "Receiving objects: 100% (885/885), 24.83 MiB | 29.19 MiB/s, done.\n",
            "Resolving deltas: 100% (287/287), done.\n"
          ]
        }
      ]
    },
    {
      "cell_type": "code",
      "source": [
        "! "
      ],
      "metadata": {
        "id": "sCPGMkSRyMSf"
      },
      "execution_count": null,
      "outputs": []
    }
  ]
}