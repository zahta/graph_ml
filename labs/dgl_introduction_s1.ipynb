{
 "cells": [
  {
   "attachments": {},
   "cell_type": "markdown",
   "metadata": {},
   "source": [
    "## First Session"
   ]
  },
  {
   "cell_type": "markdown",
   "metadata": {},
   "source": [
    "---------------"
   ]
  },
  {
   "attachments": {},
   "cell_type": "markdown",
   "metadata": {},
   "source": [
    "\n",
    "## Introduction to [Deep Graph Library (DGL)](https://docs.dgl.ai/index.html) for the graduate course \"[Graph Machine learning](https://github.com/zahta/graph_ml)\"\n",
    "##### by [Zahra Taheri](https://github.com/zahta), 09 May 2023"
   ]
  },
  {
   "attachments": {},
   "cell_type": "markdown",
   "metadata": {},
   "source": [
    "---------------"
   ]
  },
  {
   "attachments": {},
   "cell_type": "markdown",
   "metadata": {
    "slideshow": {
     "slide_type": "slide"
    }
   },
   "source": [
    "### This Tutorial Is Prepared Based on the Following References\n",
    "\n",
    "- [A Blitz Introduction to DGL](https://docs.dgl.ai/en/latest/tutorials/blitz/index.html)\n",
    "  \n",
    "- [User Guide](https://docs.dgl.ai/en/latest/guide/index.html#)\n",
    "    - Chapter 1: Graph\n",
    "    - Chapter 2: Message Passing\n",
    "    - Chapter 3: Building GNN Modules\n",
    "    - Chapter 4: Graph Data Pipeline\n",
    "    - Chapter 5: Training Graph Neural Networks\n",
    "    - Chapter 6: Stochastic Training on Large Graphs\n",
    "    - Chapter 7: Distributed Training\n",
    "    - Chapter 8: Mixed Precision Training"
   ]
  },
  {
   "attachments": {},
   "cell_type": "markdown",
   "metadata": {},
   "source": [
    "----------------"
   ]
  },
  {
   "attachments": {},
   "cell_type": "markdown",
   "metadata": {},
   "source": [
    "### [Get Started](https://www.dgl.ai/pages/start.html)\n",
    "\n",
    "#### System Requirements\n",
    "\n",
    "**Supported OS:**\n",
    "\n",
    "All Linux distributions no earlier than CentOS 7+ / Ubuntu 18.04.\n",
    "\n",
    "macOS X 10.9+\n",
    "\n",
    "Windows 10+ (with VC2015 Redistributable Installed) / Windows server 2016+\n",
    "\n",
    "Supported Python versions: 3.6, 3.7, 3.8, 3.9, 3.10, 3.11\n",
    "\n",
    "**Supported deep learning frameworks:**\n",
    "\n",
    "PyTorch 1.12.0+\n",
    "\n",
    "Apache MXNet 1.6+\n",
    "\n",
    "TensorFlow 2.3+.\n",
    "\n",
    "#### Installation\n",
    "\n",
    "**With Conda (without cuda):**\n",
    "\n",
    "conda install -c dglteam dgl\n",
    "\n",
    "**With pip (without cuda):**\n",
    "\n",
    "pip install  dgl -f https://data.dgl.ai/wheels/repo.html\n",
    "\n",
    "pip install  dglgo -f https://data.dgl.ai/wheels-test/repo.html"
   ]
  },
  {
   "attachments": {},
   "cell_type": "markdown",
   "metadata": {},
   "source": [
    "----------------------------------"
   ]
  },
  {
   "cell_type": "code",
   "execution_count": 1,
   "metadata": {},
   "outputs": [],
   "source": [
    "%matplotlib inline\n",
    "import os\n",
    "\n",
    "os.environ[\"DGLBACKEND\"] = \"pytorch\"\n",
    "import dgl\n",
    "import numpy as np\n",
    "import networkx as nx\n",
    "import torch\n",
    "import torch.nn as nn"
   ]
  },
  {
   "attachments": {},
   "cell_type": "markdown",
   "metadata": {},
   "source": [
    "\n",
    "How Does DGL Represent A Graph?\n",
    "===============================\n",
    "\n",
    " <img src=\"/home/zahra/graph_ml/images/graph.png\" alt=\"app-screen\" width=\"300\" />\n",
    "\n",
    "By the end of this tutorial you will be able to:\n",
    "\n",
    "-  Construct a graph in DGL from scratch.\n",
    "-  Assign node and edge features to a graph.\n",
    "-  Query properties of a DGL graph such as node degrees and\n",
    "   connectivity.\n",
    "-  Transform a DGL graph into another graph.\n",
    "-  Load and save DGL graphs.\n"
   ]
  },
  {
   "attachments": {},
   "cell_type": "markdown",
   "metadata": {},
   "source": [
    "DGL Graph Construction\n",
    "----------------------\n",
    "\n",
    "DGL represents a directed graph as a ``DGLGraph`` object. You can\n",
    "construct a graph by specifying the number of nodes in the graph as well\n",
    "as the list of source and destination nodes.  Nodes in the graph have\n",
    "consecutive IDs starting from 0.\n"
   ]
  },
  {
   "attachments": {},
   "cell_type": "markdown",
   "metadata": {},
   "source": [
    "\n",
    "For instance, the following code constructs a directed star graph with 5\n",
    "leaves. The center node's ID is 0. The edges go from the\n",
    "center node to the leaves."
   ]
  },
  {
   "cell_type": "code",
   "execution_count": 4,
   "metadata": {},
   "outputs": [],
   "source": [
    "g = dgl.graph(([0, 0, 0, 0, 0], [1, 2, 3, 4, 5]), num_nodes=6)\n",
    "# Equivalently, PyTorch LongTensors also work.\n",
    "g = dgl.graph(\n",
    "    (torch.LongTensor([0, 0, 0, 0, 0]), torch.LongTensor([1, 2, 3, 4, 5])),\n",
    "    num_nodes=6,\n",
    ")\n",
    "\n",
    "# You can omit the number of nodes argument if you can tell the number of nodes from the edge list alone.\n",
    "g = dgl.graph(([0, 0, 0, 0, 0], [1, 2, 3, 4, 5]))"
   ]
  },
  {
   "cell_type": "markdown",
   "metadata": {},
   "source": [
    "Edges in the graph have consecutive IDs starting from 0, and are\n",
    "in the same order as the list of source and destination nodes during\n",
    "creation.\n",
    "\n",
    "\n"
   ]
  },
  {
   "cell_type": "code",
   "execution_count": 3,
   "metadata": {},
   "outputs": [
    {
     "name": "stdout",
     "output_type": "stream",
     "text": [
      "(tensor([0, 0, 0, 0, 0]), tensor([1, 2, 3, 4, 5]))\n"
     ]
    }
   ],
   "source": [
    "# Print the source and destination nodes of every edge.\n",
    "print(g.edges())"
   ]
  },
  {
   "cell_type": "code",
   "execution_count": 4,
   "metadata": {},
   "outputs": [
    {
     "data": {
      "image/png": "[encoded data removed]",
      "text/plain": [
       "<Figure size 640x480 with 1 Axes>"
      ]
     },
     "metadata": {},
     "output_type": "display_data"
    }
   ],
   "source": [
    "nx.draw_networkx(g.to_networkx(), with_labels = True)"
   ]
  },
  {
   "cell_type": "code",
   "execution_count": 5,
   "metadata": {},
   "outputs": [
    {
     "name": "stdout",
     "output_type": "stream",
     "text": [
      "tensor([0, 1, 2, 3, 4, 5])\n"
     ]
    }
   ],
   "source": [
    "# Node IDs\n",
    "print(g.nodes())"
   ]
  },
  {
   "cell_type": "code",
   "execution_count": 6,
   "metadata": {},
   "outputs": [
    {
     "name": "stdout",
     "output_type": "stream",
     "text": [
      "(tensor([0, 0, 0, 0, 0]), tensor([1, 2, 3, 4, 5]))\n"
     ]
    }
   ],
   "source": [
    "# endpoints of the edges\n",
    "print(g.edges())"
   ]
  },
  {
   "cell_type": "code",
   "execution_count": 7,
   "metadata": {},
   "outputs": [
    {
     "data": {
      "text/plain": [
       "tensor([0, 0, 0, 0, 0])"
      ]
     },
     "execution_count": 7,
     "metadata": {},
     "output_type": "execute_result"
    }
   ],
   "source": [
    "g.edges()[0]"
   ]
  },
  {
   "cell_type": "code",
   "execution_count": 8,
   "metadata": {},
   "outputs": [
    {
     "name": "stdout",
     "output_type": "stream",
     "text": [
      "tensor([0, 1, 2, 3, 4])\n"
     ]
    }
   ],
   "source": [
    "# defining a graph with 5 nodes and some given edges\n",
    "\n",
    "src_ids = [1,2,3]\n",
    "dst_ids = [4,0,1]\n",
    "g = dgl.graph((src_ids, dst_ids))\n",
    "print(g.nodes()) "
   ]
  },
  {
   "cell_type": "code",
   "execution_count": 9,
   "metadata": {},
   "outputs": [
    {
     "data": {
      "image/png": "[encoded data removed]",
      "text/plain": [
       "<Figure size 640x480 with 1 Axes>"
      ]
     },
     "metadata": {},
     "output_type": "display_data"
    }
   ],
   "source": [
    "nx.draw_networkx(g.to_networkx(), with_labels = True)"
   ]
  },
  {
   "cell_type": "code",
   "execution_count": 10,
   "metadata": {},
   "outputs": [
    {
     "name": "stdout",
     "output_type": "stream",
     "text": [
      "tensor([0, 1, 2, 3, 4, 5])\n"
     ]
    }
   ],
   "source": [
    "# defining a graph with 6 nodes and the previous given edges (with an isolated node)\n",
    "\n",
    "g = dgl.graph((src_ids, dst_ids), num_nodes=6)\n",
    "print(g.nodes())"
   ]
  },
  {
   "cell_type": "code",
   "execution_count": 11,
   "metadata": {},
   "outputs": [
    {
     "data": {
      "image/png": "[encoded data removed]",
      "text/plain": [
       "<Figure size 640x480 with 1 Axes>"
      ]
     },
     "metadata": {},
     "output_type": "display_data"
    }
   ],
   "source": [
    "nx.draw_networkx(g.to_networkx(), with_labels = True)"
   ]
  },
  {
   "attachments": {},
   "cell_type": "markdown",
   "metadata": {},
   "source": [
    "##### Extract information of edges"
   ]
  },
  {
   "cell_type": "code",
   "execution_count": 12,
   "metadata": {},
   "outputs": [
    {
     "name": "stdout",
     "output_type": "stream",
     "text": [
      "(tensor([1, 2, 3]), tensor([4, 0, 1]))\n"
     ]
    }
   ],
   "source": [
    "print(g.edges())"
   ]
  },
  {
   "cell_type": "code",
   "execution_count": 13,
   "metadata": {},
   "outputs": [
    {
     "name": "stdout",
     "output_type": "stream",
     "text": [
      "(tensor([1, 2, 3]), tensor([4, 0, 1]))\n"
     ]
    }
   ],
   "source": [
    "print(g.edges(\"uv\"))"
   ]
  },
  {
   "cell_type": "code",
   "execution_count": 14,
   "metadata": {},
   "outputs": [
    {
     "name": "stdout",
     "output_type": "stream",
     "text": [
      "(tensor([1, 2, 3]), tensor([4, 0, 1]), tensor([0, 1, 2]))\n"
     ]
    }
   ],
   "source": [
    "print(g.edges(\"all\"))"
   ]
  },
  {
   "cell_type": "code",
   "execution_count": 15,
   "metadata": {},
   "outputs": [
    {
     "name": "stdout",
     "output_type": "stream",
     "text": [
      "tensor([0, 1, 2])\n"
     ]
    }
   ],
   "source": [
    "print(g.edges(\"eid\"))"
   ]
  },
  {
   "cell_type": "code",
   "execution_count": 16,
   "metadata": {},
   "outputs": [
    {
     "data": {
      "text/plain": [
       "1"
      ]
     },
     "execution_count": 16,
     "metadata": {},
     "output_type": "execute_result"
    }
   ],
   "source": [
    "# find ID of a valid edge, e.g., 2->0\n",
    "g.edge_ids(2, 0)"
   ]
  },
  {
   "cell_type": "code",
   "execution_count": 17,
   "metadata": {},
   "outputs": [
    {
     "data": {
      "text/plain": [
       "tensor([1, 0])"
      ]
     },
     "execution_count": 17,
     "metadata": {},
     "output_type": "execute_result"
    }
   ],
   "source": [
    "# find IDs of some valid edges, e.g., (2->0 and 1->4)\n",
    "g.edge_ids(torch.tensor([2, 1]), torch.tensor([0, 4]))"
   ]
  },
  {
   "cell_type": "code",
   "execution_count": 18,
   "metadata": {},
   "outputs": [
    {
     "data": {
      "text/plain": [
       "tensor([1, 0])"
      ]
     },
     "execution_count": 18,
     "metadata": {},
     "output_type": "execute_result"
    }
   ],
   "source": [
    "# find IDs of some valid edges, e.g., (2->0 and 1->4)\n",
    "g.edge_ids([2, 1],[0, 4])"
   ]
  },
  {
   "cell_type": "code",
   "execution_count": 19,
   "metadata": {},
   "outputs": [
    {
     "data": {
      "text/plain": [
       "(tensor([1]), tensor([4]))"
      ]
     },
     "execution_count": 19,
     "metadata": {},
     "output_type": "execute_result"
    }
   ],
   "source": [
    "# Returns the source and destination node ID given the edge ID(s).\n",
    "g.find_edges(0)"
   ]
  },
  {
   "cell_type": "code",
   "execution_count": 20,
   "metadata": {},
   "outputs": [
    {
     "data": {
      "text/plain": [
       "(tensor([1, 2]), tensor([4, 0]))"
      ]
     },
     "execution_count": 20,
     "metadata": {},
     "output_type": "execute_result"
    }
   ],
   "source": [
    "g.find_edges([0, 1])"
   ]
  },
  {
   "cell_type": "code",
   "execution_count": 21,
   "metadata": {},
   "outputs": [
    {
     "data": {
      "image/png": "[encoded data removed]",
      "text/plain": [
       "<Figure size 640x480 with 1 Axes>"
      ]
     },
     "metadata": {},
     "output_type": "display_data"
    }
   ],
   "source": [
    "g = dgl.graph((torch.tensor([0, 1]), torch.tensor([1, 2])))\n",
    "nx.draw_networkx(g.to_networkx(), with_labels = True)"
   ]
  },
  {
   "cell_type": "code",
   "execution_count": 22,
   "metadata": {},
   "outputs": [
    {
     "data": {
      "image/png": "[encoded data removed]",
      "text/plain": [
       "<Figure size 640x480 with 1 Axes>"
      ]
     },
     "metadata": {},
     "output_type": "display_data"
    }
   ],
   "source": [
    "g = dgl.add_nodes(g, 2)\n",
    "nx.draw_networkx(g.to_networkx(), with_labels = True)"
   ]
  },
  {
   "cell_type": "code",
   "execution_count": 23,
   "metadata": {},
   "outputs": [],
   "source": [
    "g = dgl.graph(([0, 0, 0, 0, 0], [1, 2, 3, 4, 5]), num_nodes=6)\n",
    "# Equivalently, PyTorch LongTensors also work.\n",
    "g = dgl.graph(\n",
    "    (torch.LongTensor([0, 0, 0, 0, 0]), torch.LongTensor([1, 2, 3, 4, 5])),\n",
    "    num_nodes=6,\n",
    ")\n",
    "\n",
    "# You can omit the number of nodes argument if you can tell the number of nodes from the edge list alone.\n",
    "g = dgl.graph(([0, 0, 0, 0, 0], [1, 2, 3, 4, 5]))"
   ]
  },
  {
   "cell_type": "markdown",
   "metadata": {},
   "source": [
    "<div class=\"alert alert-info\"><h4>Note</h4><p>``DGLGraph``'s are always directed to best fit the computation\n",
    "   pattern of graph neural networks, where the messages sent\n",
    "   from one node to the other are often different between both\n",
    "   directions. If you want to handle undirected graphs, you may consider\n",
    "   treating it as a bidirectional graph. See `Graph\n",
    "   Transformations`_ for an example of making\n",
    "   a bidirectional graph.</p></div>\n",
    "\n",
    "\n"
   ]
  },
  {
   "cell_type": "markdown",
   "metadata": {},
   "source": [
    "Assigning Node and Edge Features to Graph\n",
    "-----------------------------------------\n",
    "\n",
    "Many graph data contain attributes on nodes and edges.\n",
    "Although the types of node and edge attributes can be arbitrary in real\n",
    "world, ``DGLGraph`` only accepts attributes stored in tensors (with\n",
    "numerical contents). Consequently, an attribute of all the nodes or\n",
    "edges must have the same shape. In the context of deep learning, those\n",
    "attributes are often called *features*.\n",
    "\n",
    "You can assign and retrieve node and edge features via ``ndata`` and\n",
    "``edata`` interface.\n",
    "\n",
    "\n"
   ]
  },
  {
   "cell_type": "code",
   "execution_count": 24,
   "metadata": {},
   "outputs": [
    {
     "name": "stdout",
     "output_type": "stream",
     "text": [
      "tensor([[ 0.3328,  0.1273,  0.6627],\n",
      "        [ 0.8486, -0.1740,  0.2334],\n",
      "        [-0.9223,  1.4907,  1.3930],\n",
      "        [-1.1703,  0.5329, -2.1613],\n",
      "        [-0.5782,  0.8484,  0.6940],\n",
      "        [ 0.9306, -0.0957,  0.4226]])\n"
     ]
    }
   ],
   "source": [
    "# Assign a 3-dimensional node feature vector for each node.\n",
    "g.ndata[\"x\"] = torch.randn(6, 3)\n",
    "# Assign a 4-dimensional edge feature vector for each edge.\n",
    "g.edata[\"a\"] = torch.randn(5, 4)\n",
    "# Assign a 5x4 node feature matrix for each node.  Node and edge features in DGL can be multi-dimensional.\n",
    "g.ndata[\"y\"] = torch.randn(6, 5, 4)\n",
    "\n",
    "print(g.ndata[\"x\"])"
   ]
  },
  {
   "cell_type": "code",
   "execution_count": 25,
   "metadata": {},
   "outputs": [
    {
     "name": "stdout",
     "output_type": "stream",
     "text": [
      "Graph(num_nodes=6, num_edges=5,\n",
      "      ndata_schemes={'x': Scheme(shape=(3,), dtype=torch.float32), 'y': Scheme(shape=(5, 4), dtype=torch.float32)}\n",
      "      edata_schemes={'a': Scheme(shape=(4,), dtype=torch.float32)})\n"
     ]
    }
   ],
   "source": [
    "print(g)"
   ]
  },
  {
   "cell_type": "code",
   "execution_count": 26,
   "metadata": {},
   "outputs": [
    {
     "data": {
      "text/plain": [
       "tensor([[1.],\n",
       "        [1.],\n",
       "        [1.],\n",
       "        [1.],\n",
       "        [1.],\n",
       "        [1.]])"
      ]
     },
     "execution_count": 26,
     "metadata": {},
     "output_type": "execute_result"
    }
   ],
   "source": [
    "g.ndata['h'] = torch.ones(6, 1)\n",
    "g.ndata['h']"
   ]
  },
  {
   "cell_type": "code",
   "execution_count": 27,
   "metadata": {},
   "outputs": [
    {
     "name": "stdout",
     "output_type": "stream",
     "text": [
      "Graph(num_nodes=6, num_edges=5,\n",
      "      ndata_schemes={'x': Scheme(shape=(3,), dtype=torch.float32), 'y': Scheme(shape=(5, 4), dtype=torch.float32), 'h': Scheme(shape=(1,), dtype=torch.float32)}\n",
      "      edata_schemes={'a': Scheme(shape=(4,), dtype=torch.float32)})\n"
     ]
    }
   ],
   "source": [
    "print(g)"
   ]
  },
  {
   "cell_type": "code",
   "execution_count": 28,
   "metadata": {},
   "outputs": [
    {
     "data": {
      "text/plain": [
       "tensor([[1.],\n",
       "        [1.],\n",
       "        [1.],\n",
       "        [1.],\n",
       "        [1.],\n",
       "        [1.],\n",
       "        [0.]])"
      ]
     },
     "execution_count": 28,
     "metadata": {},
     "output_type": "execute_result"
    }
   ],
   "source": [
    "g = dgl.add_nodes(g, 1)\n",
    "g.ndata['h']"
   ]
  },
  {
   "cell_type": "code",
   "execution_count": 29,
   "metadata": {},
   "outputs": [
    {
     "name": "stdout",
     "output_type": "stream",
     "text": [
      "Graph(num_nodes=7, num_edges=5,\n",
      "      ndata_schemes={'x': Scheme(shape=(3,), dtype=torch.float32), 'y': Scheme(shape=(5, 4), dtype=torch.float32), 'h': Scheme(shape=(1,), dtype=torch.float32)}\n",
      "      edata_schemes={'a': Scheme(shape=(4,), dtype=torch.float32)})\n"
     ]
    }
   ],
   "source": [
    "print(g)"
   ]
  },
  {
   "cell_type": "code",
   "execution_count": 30,
   "metadata": {},
   "outputs": [
    {
     "data": {
      "text/plain": [
       "Parameter containing:\n",
       "tensor([[ 1.1241, -0.4887],\n",
       "        [-0.5212, -0.1095],\n",
       "        [-0.3391,  0.1524],\n",
       "        [-0.5107,  0.6816],\n",
       "        [-0.3469,  0.7854],\n",
       "        [-0.0444,  2.3621],\n",
       "        [ 0.2611,  0.1389]], requires_grad=True)"
      ]
     },
     "execution_count": 30,
     "metadata": {},
     "output_type": "execute_result"
    }
   ],
   "source": [
    "# Adds a learnable embeddings for all nodes\n",
    "embed = nn.Embedding(7, 2)\n",
    "g.ndata['feat'] = embed.weight\n",
    "g.ndata['feat']"
   ]
  },
  {
   "cell_type": "code",
   "execution_count": 31,
   "metadata": {},
   "outputs": [
    {
     "name": "stdout",
     "output_type": "stream",
     "text": [
      "tensor([-0.3391,  0.1524], grad_fn=<SelectBackward0>)\n"
     ]
    }
   ],
   "source": [
    "# print node 2's input feature\n",
    "print(g.ndata['feat'][2])"
   ]
  },
  {
   "cell_type": "code",
   "execution_count": 32,
   "metadata": {},
   "outputs": [
    {
     "name": "stdout",
     "output_type": "stream",
     "text": [
      "tensor([[-0.3391,  0.1524],\n",
      "        [-0.3469,  0.7854]], grad_fn=<IndexBackward0>)\n"
     ]
    }
   ],
   "source": [
    "# print out node 2 and 4's input features\n",
    "print(g.ndata['feat'][[2, 4]])"
   ]
  },
  {
   "cell_type": "code",
   "execution_count": 33,
   "metadata": {},
   "outputs": [
    {
     "data": {
      "image/png": "[encoded data removed]",
      "text/plain": [
       "<Figure size 640x480 with 1 Axes>"
      ]
     },
     "metadata": {},
     "output_type": "display_data"
    }
   ],
   "source": [
    "g_nx = nx.petersen_graph()\n",
    "g = dgl.from_networkx(g_nx)\n",
    "nx.draw_networkx(g.to_networkx(), with_labels = True)"
   ]
  },
  {
   "cell_type": "code",
   "execution_count": 34,
   "metadata": {},
   "outputs": [
    {
     "data": {
      "text/plain": [
       "{'x': tensor([[-2.3983,  0.1163, -0.1424],\n",
       "        [-1.1349,  0.0931,  2.3760],\n",
       "        [ 0.1112,  0.9053, -0.2729],\n",
       "        [ 0.6420,  1.6896,  0.8604],\n",
       "        [ 0.1054, -0.6259, -0.3428],\n",
       "        [ 0.1819, -0.4596,  0.4474],\n",
       "        [ 0.1540, -0.4012, -1.0414],\n",
       "        [-0.0559, -0.9912, -2.0168],\n",
       "        [ 0.3794,  1.0251, -1.1173],\n",
       "        [ 1.2346,  1.1826, -0.3397]])}"
      ]
     },
     "execution_count": 34,
     "metadata": {},
     "output_type": "execute_result"
    }
   ],
   "source": [
    "x = torch.randn(10, 3)\n",
    "g.ndata['x'] = x\n",
    "g.ndata"
   ]
  },
  {
   "cell_type": "code",
   "execution_count": 35,
   "metadata": {},
   "outputs": [],
   "source": [
    "g.ndata['x'][0] = torch.zeros(1, 3)\n",
    "g.ndata['x'][[0, 1, 2]] = torch.zeros(3, 3)\n",
    "# g.ndata['x'][torch.tensor([0, 1, 2])] = torch.randn(3, 3)"
   ]
  },
  {
   "cell_type": "code",
   "execution_count": 36,
   "metadata": {},
   "outputs": [
    {
     "data": {
      "text/plain": [
       "tensor([[ 0.0000,  0.0000,  0.0000],\n",
       "        [ 0.0000,  0.0000,  0.0000],\n",
       "        [ 0.0000,  0.0000,  0.0000],\n",
       "        [ 0.6420,  1.6896,  0.8604],\n",
       "        [ 0.1054, -0.6259, -0.3428],\n",
       "        [ 0.1819, -0.4596,  0.4474],\n",
       "        [ 0.1540, -0.4012, -1.0414],\n",
       "        [-0.0559, -0.9912, -2.0168],\n",
       "        [ 0.3794,  1.0251, -1.1173],\n",
       "        [ 1.2346,  1.1826, -0.3397]])"
      ]
     },
     "execution_count": 36,
     "metadata": {},
     "output_type": "execute_result"
    }
   ],
   "source": [
    "g.ndata['x']"
   ]
  },
  {
   "cell_type": "markdown",
   "metadata": {},
   "source": [
    "Assigning edge features is similar to that of node features, except that you can also do it by specifying endpoints of the edges."
   ]
  },
  {
   "cell_type": "code",
   "execution_count": 37,
   "metadata": {},
   "outputs": [
    {
     "data": {
      "text/plain": [
       "{'w': tensor([[-0.5233, -0.6827],\n",
       "        [ 0.3240,  0.4518],\n",
       "        [ 2.0616, -0.2406],\n",
       "        [ 1.8011, -1.3334],\n",
       "        [-0.4116, -0.2241],\n",
       "        [ 1.4575, -0.0999],\n",
       "        [-2.1754, -0.9719],\n",
       "        [ 0.3565, -0.1400],\n",
       "        [-0.5080, -1.4082],\n",
       "        [ 1.1300,  0.5195],\n",
       "        [-0.1703,  1.6730],\n",
       "        [ 0.3069,  0.5121],\n",
       "        [ 0.1209,  1.5571],\n",
       "        [ 0.3910, -0.5565],\n",
       "        [ 0.1812, -0.5736],\n",
       "        [-1.0830, -0.0474],\n",
       "        [-0.0098, -0.6067],\n",
       "        [ 1.5420,  1.6262],\n",
       "        [ 1.4072,  0.7159],\n",
       "        [ 1.0366, -0.5645],\n",
       "        [-1.3820, -1.6408],\n",
       "        [ 0.6382,  0.3101],\n",
       "        [ 0.3830,  0.0973],\n",
       "        [-1.3659, -0.2355],\n",
       "        [-0.1441, -2.0269],\n",
       "        [ 0.3167,  1.4210],\n",
       "        [ 1.3409, -0.6139],\n",
       "        [ 0.9098, -0.9694],\n",
       "        [-0.1639, -0.5650],\n",
       "        [-0.0430,  0.7084]])}"
      ]
     },
     "execution_count": 37,
     "metadata": {},
     "output_type": "execute_result"
    }
   ],
   "source": [
    "g.edata['w'] = torch.randn(30, 2)\n",
    "g.edata"
   ]
  },
  {
   "cell_type": "code",
   "execution_count": 38,
   "metadata": {},
   "outputs": [],
   "source": [
    "# Access edge set with IDs in integer, list, or integer tensor\n",
    "g.edata['w'][1] = torch.randn(1, 2)\n",
    "g.edata['w'][[0, 1, 2]] = torch.zeros(3, 2)\n",
    "g.edata['w'][torch.tensor([0, 1, 2])] = torch.zeros(3, 2)"
   ]
  },
  {
   "cell_type": "code",
   "execution_count": 39,
   "metadata": {},
   "outputs": [],
   "source": [
    "# You can get the edge ids by giving endpoints, which are useful for accessing the features.\n",
    "g.edata['w'][g.edge_ids(8, 5)] = torch.zeros(1, 2)   "
   ]
  },
  {
   "cell_type": "code",
   "execution_count": 40,
   "metadata": {},
   "outputs": [
    {
     "data": {
      "text/plain": [
       "tensor([[ 0.0000,  0.0000],\n",
       "        [ 0.0000,  0.0000],\n",
       "        [ 0.0000,  0.0000],\n",
       "        [ 1.8011, -1.3334],\n",
       "        [-0.4116, -0.2241],\n",
       "        [ 1.4575, -0.0999],\n",
       "        [-2.1754, -0.9719],\n",
       "        [ 0.3565, -0.1400],\n",
       "        [-0.5080, -1.4082],\n",
       "        [ 1.1300,  0.5195],\n",
       "        [-0.1703,  1.6730],\n",
       "        [ 0.3069,  0.5121],\n",
       "        [ 0.1209,  1.5571],\n",
       "        [ 0.3910, -0.5565],\n",
       "        [ 0.1812, -0.5736],\n",
       "        [-1.0830, -0.0474],\n",
       "        [-0.0098, -0.6067],\n",
       "        [ 1.5420,  1.6262],\n",
       "        [ 1.4072,  0.7159],\n",
       "        [ 1.0366, -0.5645],\n",
       "        [-1.3820, -1.6408],\n",
       "        [ 0.6382,  0.3101],\n",
       "        [ 0.3830,  0.0973],\n",
       "        [-1.3659, -0.2355],\n",
       "        [-0.1441, -2.0269],\n",
       "        [ 0.0000,  0.0000],\n",
       "        [ 1.3409, -0.6139],\n",
       "        [ 0.9098, -0.9694],\n",
       "        [-0.1639, -0.5650],\n",
       "        [-0.0430,  0.7084]])"
      ]
     },
     "execution_count": 40,
     "metadata": {},
     "output_type": "execute_result"
    }
   ],
   "source": [
    "g.edata['w']"
   ]
  },
  {
   "cell_type": "markdown",
   "metadata": {},
   "source": [
    "You can also remove node or edge states from the graph. This is particularly useful to save memory during inference.\n",
    "\n"
   ]
  },
  {
   "cell_type": "code",
   "execution_count": 41,
   "metadata": {},
   "outputs": [
    {
     "data": {
      "text/plain": [
       "{}"
      ]
     },
     "execution_count": 41,
     "metadata": {},
     "output_type": "execute_result"
    }
   ],
   "source": [
    "g.ndata.pop('x')\n",
    "g.edata.pop('w')\n",
    "g.ndata"
   ]
  },
  {
   "cell_type": "markdown",
   "metadata": {},
   "source": [
    "<div class=\"alert alert-info\"><h4>Note</h4><p>The vast development of deep learning has provided us many\n",
    "   ways to encode various types of attributes into numerical features.\n",
    "   Here are some general suggestions:\n",
    "\n",
    "   -  For categorical attributes (e.g. gender, occupation), consider\n",
    "      converting them to integers or one-hot encoding.\n",
    "   -  For variable length string contents (e.g. news article, quote),\n",
    "      consider applying a language model.\n",
    "   -  For images, consider applying a vision model such as CNNs.\n",
    "\n",
    "   You can find plenty of materials on how to encode such attributes\n",
    "   into a tensor in the `PyTorch Deep Learning\n",
    "   Tutorials <https://pytorch.org/tutorials/>`__.</p></div>\n",
    "\n",
    "\n"
   ]
  },
  {
   "cell_type": "markdown",
   "metadata": {},
   "source": [
    "Querying Graph Structures\n",
    "-------------------------\n",
    "\n",
    "``DGLGraph`` object provides various methods to query a graph structure.\n",
    "\n",
    "\n"
   ]
  },
  {
   "cell_type": "code",
   "execution_count": 42,
   "metadata": {},
   "outputs": [],
   "source": [
    "g = dgl.graph(([0, 0, 0, 0, 0], [1, 2, 3, 4, 5]), num_nodes=6)\n",
    "# Equivalently, PyTorch LongTensors also work.\n",
    "g = dgl.graph(\n",
    "    (torch.LongTensor([0, 0, 0, 0, 0]), torch.LongTensor([1, 2, 3, 4, 5])),\n",
    "    num_nodes=6,\n",
    ")\n",
    "\n",
    "# You can omit the number of nodes argument if you can tell the number of nodes from the edge list alone.\n",
    "g = dgl.graph(([0, 0, 0, 0, 0], [1, 2, 3, 4, 5]))"
   ]
  },
  {
   "cell_type": "code",
   "execution_count": 43,
   "metadata": {},
   "outputs": [
    {
     "name": "stdout",
     "output_type": "stream",
     "text": [
      "tensor([[-1.0238,  1.2493, -0.2539],\n",
      "        [-1.7649,  0.1555, -1.2498],\n",
      "        [-1.4226, -0.2141, -0.1454],\n",
      "        [ 1.3658,  0.9208,  0.3963],\n",
      "        [-0.9183,  1.0247, -0.2859],\n",
      "        [ 0.1070, -0.1006,  0.2359]])\n"
     ]
    }
   ],
   "source": [
    "# Assign a 3-dimensional node feature vector for each node.\n",
    "g.ndata[\"x\"] = torch.randn(6, 3)\n",
    "# Assign a 4-dimensional edge feature vector for each edge.\n",
    "g.edata[\"a\"] = torch.randn(5, 4)\n",
    "# Assign a 5x4 node feature matrix for each node.  Node and edge features in DGL can be multi-dimensional.\n",
    "g.ndata[\"y\"] = torch.randn(6, 5, 4)\n",
    "\n",
    "print(g.ndata[\"x\"])"
   ]
  },
  {
   "cell_type": "code",
   "execution_count": 44,
   "metadata": {},
   "outputs": [
    {
     "name": "stdout",
     "output_type": "stream",
     "text": [
      "6\n",
      "5\n",
      "5\n",
      "0\n"
     ]
    }
   ],
   "source": [
    "print(g.num_nodes())\n",
    "print(g.num_edges())\n",
    "# Out degrees of the center node\n",
    "print(g.out_degrees(0))\n",
    "# In degrees of the center node - note that the graph is directed so the in degree should be 0.\n",
    "print(g.in_degrees(0))"
   ]
  },
  {
   "cell_type": "markdown",
   "metadata": {},
   "source": [
    "Graph Transformations\n",
    "---------------------\n",
    "\n",
    "\n"
   ]
  },
  {
   "cell_type": "markdown",
   "metadata": {},
   "source": [
    "DGL provides many APIs to transform a graph to another such as\n",
    "extracting a subgraph:\n",
    "\n",
    "\n"
   ]
  },
  {
   "cell_type": "code",
   "execution_count": 45,
   "metadata": {},
   "outputs": [],
   "source": [
    "# Induce a subgraph from node 0, node 1 and node 3 from the original graph.\n",
    "sg1 = g.subgraph([0, 1, 3])\n",
    "# Induce a subgraph from edge 0, edge 1 and edge 3 from the original graph.\n",
    "sg2 = g.edge_subgraph([0, 1, 3])"
   ]
  },
  {
   "cell_type": "markdown",
   "metadata": {},
   "source": [
    "You can obtain the node/edge mapping from the subgraph to the original\n",
    "graph by looking into the node feature ``dgl.NID`` or edge feature\n",
    "``dgl.EID`` in the new graph.\n",
    "\n",
    "\n"
   ]
  },
  {
   "cell_type": "code",
   "execution_count": 46,
   "metadata": {},
   "outputs": [
    {
     "name": "stdout",
     "output_type": "stream",
     "text": [
      "tensor([0, 1, 3])\n",
      "tensor([0, 2])\n",
      "tensor([0, 1, 2, 4])\n",
      "tensor([0, 1, 3])\n"
     ]
    }
   ],
   "source": [
    "# The original IDs of each node in sg1\n",
    "print(sg1.ndata[dgl.NID])\n",
    "# The original IDs of each edge in sg1\n",
    "print(sg1.edata[dgl.EID])\n",
    "# The original IDs of each node in sg2\n",
    "print(sg2.ndata[dgl.NID])\n",
    "# The original IDs of each edge in sg2\n",
    "print(sg2.edata[dgl.EID])"
   ]
  },
  {
   "cell_type": "markdown",
   "metadata": {},
   "source": [
    "``subgraph`` and ``edge_subgraph`` also copies the original features\n",
    "to the subgraph:\n",
    "\n",
    "\n"
   ]
  },
  {
   "cell_type": "code",
   "execution_count": 47,
   "metadata": {},
   "outputs": [
    {
     "name": "stdout",
     "output_type": "stream",
     "text": [
      "tensor([[-1.0238,  1.2493, -0.2539],\n",
      "        [-1.7649,  0.1555, -1.2498],\n",
      "        [ 1.3658,  0.9208,  0.3963]])\n",
      "tensor([[ 1.8629,  0.3587, -0.2901,  0.7310],\n",
      "        [ 0.6382, -0.8732, -0.6088,  0.9154]])\n",
      "tensor([[-1.0238,  1.2493, -0.2539],\n",
      "        [-1.7649,  0.1555, -1.2498],\n",
      "        [-1.4226, -0.2141, -0.1454],\n",
      "        [-0.9183,  1.0247, -0.2859]])\n",
      "tensor([[ 1.8629,  0.3587, -0.2901,  0.7310],\n",
      "        [ 1.1017, -0.7278, -0.5077,  0.6895],\n",
      "        [ 0.3403, -0.6723,  0.4547, -0.0252]])\n"
     ]
    }
   ],
   "source": [
    "# The original node feature of each node in sg1\n",
    "print(sg1.ndata[\"x\"])\n",
    "# The original edge feature of each node in sg1\n",
    "print(sg1.edata[\"a\"])\n",
    "# The original node feature of each node in sg2\n",
    "print(sg2.ndata[\"x\"])\n",
    "# The original edge feature of each node in sg2\n",
    "print(sg2.edata[\"a\"])"
   ]
  },
  {
   "cell_type": "markdown",
   "metadata": {},
   "source": [
    "Another common transformation is to add a reverse edge for each edge in\n",
    "the original graph with ``dgl.add_reverse_edges``.\n",
    "\n",
    "<div class=\"alert alert-info\"><h4>Note</h4><p>If you have an undirected graph, it is better to convert it\n",
    "   into a bidirectional graph first via adding reverse edges.</p></div>\n",
    "\n",
    "\n"
   ]
  },
  {
   "cell_type": "code",
   "execution_count": 48,
   "metadata": {},
   "outputs": [
    {
     "name": "stdout",
     "output_type": "stream",
     "text": [
      "(tensor([0, 0, 0, 0, 0, 1, 2, 3, 4, 5]), tensor([1, 2, 3, 4, 5, 0, 0, 0, 0, 0]))\n"
     ]
    }
   ],
   "source": [
    "newg = dgl.add_reverse_edges(g)\n",
    "print(newg.edges())"
   ]
  },
  {
   "cell_type": "markdown",
   "metadata": {},
   "source": [
    "Loading and Saving Graphs\n",
    "-------------------------\n",
    "\n",
    "You can save a graph or a list of graphs via ``dgl.save_graphs`` and\n",
    "load them back with ``dgl.load_graphs``.\n",
    "\n",
    "\n"
   ]
  },
  {
   "cell_type": "code",
   "execution_count": 49,
   "metadata": {},
   "outputs": [
    {
     "name": "stdout",
     "output_type": "stream",
     "text": [
      "Graph(num_nodes=6, num_edges=5,\n",
      "      ndata_schemes={'y': Scheme(shape=(5, 4), dtype=torch.float32), 'x': Scheme(shape=(3,), dtype=torch.float32)}\n",
      "      edata_schemes={'a': Scheme(shape=(4,), dtype=torch.float32)})\n",
      "Graph(num_nodes=6, num_edges=5,\n",
      "      ndata_schemes={'y': Scheme(shape=(5, 4), dtype=torch.float32), 'x': Scheme(shape=(3,), dtype=torch.float32)}\n",
      "      edata_schemes={'a': Scheme(shape=(4,), dtype=torch.float32)})\n",
      "Graph(num_nodes=3, num_edges=2,\n",
      "      ndata_schemes={'_ID': Scheme(shape=(), dtype=torch.int64), 'y': Scheme(shape=(5, 4), dtype=torch.float32), 'x': Scheme(shape=(3,), dtype=torch.float32)}\n",
      "      edata_schemes={'_ID': Scheme(shape=(), dtype=torch.int64), 'a': Scheme(shape=(4,), dtype=torch.float32)})\n",
      "Graph(num_nodes=4, num_edges=3,\n",
      "      ndata_schemes={'_ID': Scheme(shape=(), dtype=torch.int64), 'y': Scheme(shape=(5, 4), dtype=torch.float32), 'x': Scheme(shape=(3,), dtype=torch.float32)}\n",
      "      edata_schemes={'_ID': Scheme(shape=(), dtype=torch.int64), 'a': Scheme(shape=(4,), dtype=torch.float32)})\n"
     ]
    }
   ],
   "source": [
    "# Save graphs\n",
    "dgl.save_graphs(\"graph.dgl\", g)\n",
    "dgl.save_graphs(\"graphs.dgl\", [g, sg1, sg2])\n",
    "\n",
    "# Load graphs\n",
    "(g,), _ = dgl.load_graphs(\"graph.dgl\")\n",
    "print(g)\n",
    "(g, sg1, sg2), _ = dgl.load_graphs(\"graphs.dgl\")\n",
    "print(g)\n",
    "print(sg1)\n",
    "print(sg2)"
   ]
  },
  {
   "attachments": {},
   "cell_type": "markdown",
   "metadata": {},
   "source": [
    "What’s next?\n",
    "------------\n",
    "\n",
    "-  See [here](https://docs.dgl.ai/api/python/dgl.DGLGraph.html#apigraph-querying-graph-structure) for a list of graph structure query APIs.\n",
    "-  See [here](https://docs.dgl.ai/api/python/dgl.html#api-subgraph-extraction) for a list of subgraph extraction routines.\n",
    "-  See [here](https://docs.dgl.ai/api/python/dgl.html#api-transform) for a list of graph transformation routines.\n",
    "-  API reference of [dgl.save_graphs](https://docs.dgl.ai/generated/dgl.save_graphs.html#dgl.save_graphs) and [dgl.load_graphs](https://docs.dgl.ai/generated/dgl.load_graphs.html#dgl.load_graphs)"
   ]
  }
 ],
 "metadata": {
  "kernelspec": {
   "display_name": "gml",
   "language": "python",
   "name": "python3"
  },
  "language_info": {
   "codemirror_mode": {
    "name": "ipython",
    "version": 3
   },
   "file_extension": ".py",
   "mimetype": "text/x-python",
   "name": "python",
   "nbconvert_exporter": "python",
   "pygments_lexer": "ipython3",
   "version": "3.10.9"
  },
  "orig_nbformat": 4
 },
 "nbformat": 4,
 "nbformat_minor": 2
}
