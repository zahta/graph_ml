{
 "cells": [
  {
   "attachments": {},
   "cell_type": "markdown",
   "metadata": {},
   "source": [
    "## Sixth Session (Related to the Course Project)"
   ]
  },
  {
   "cell_type": "markdown",
   "metadata": {},
   "source": [
    "---------------"
   ]
  },
  {
   "attachments": {},
   "cell_type": "markdown",
   "metadata": {},
   "source": [
    "## Graph Classification with [Deep Graph Library (DGL)](https://docs.dgl.ai/index.html) for the graduate course \"[Graph Machine learning](https://github.com/zahta/graph_ml)\"\n",
    "\n",
    "### Dataset: BACE\n",
    "\n",
    "##### by [Zahra Taheri](https://github.com/zahta), 06 June 2023"
   ]
  },
  {
   "cell_type": "markdown",
   "metadata": {},
   "source": [
    "---------------"
   ]
  },
  {
   "attachments": {},
   "cell_type": "markdown",
   "metadata": {},
   "source": [
    "### This Tutorial Is Prepared Based on the Following References\n",
    "\n",
    "- [FunQG: Molecular Representation Learning via Quotient Graphs](https://pubs.acs.org/doi/10.1021/acs.jcim.3c00445)\n",
    "- [Supporting Information of FunQG](https://pubs.acs.org/doi/suppl/10.1021/acs.jcim.3c00445/suppl_file/ci3c00445_si_001.pdf)\n",
    "- [GitHub Repository of FunQG](https://github.com/hhaji/funqg)"
   ]
  },
  {
   "cell_type": "code",
   "execution_count": 1,
   "metadata": {},
   "outputs": [],
   "source": [
    "%matplotlib inline\n",
    "import os\n",
    "\n",
    "os.environ[\"DGLBACKEND\"] = \"pytorch\"\n",
    "import dgl\n",
    "import numpy as np\n",
    "import networkx as nx\n",
    "import torch\n",
    "import torch.nn as nn\n",
    "import dgl.function as fn\n",
    "import torch.nn.functional as F\n",
    "import shutil\n",
    "from torch.utils.data import DataLoader\n",
    "import cloudpickle\n",
    "from dgl.nn import GraphConv"
   ]
  },
  {
   "attachments": {},
   "cell_type": "markdown",
   "metadata": {},
   "source": [
    "#### Set Path"
   ]
  },
  {
   "cell_type": "code",
   "execution_count": 2,
   "metadata": {},
   "outputs": [],
   "source": [
    "current_dir = \"./\"\n",
    "checkpoint_path = current_dir + \"save_models/model_checkpoints/\" + \"checkpoint\"\n",
    "os.makedirs(checkpoint_path, exist_ok=True)\n",
    "\n",
    "best_model_path = current_dir + \"save_models/best_model/\" \n",
    "\n",
    "folder_data_temp = current_dir +\"data_temp/\"\n",
    "shutil.rmtree(folder_data_temp, ignore_errors=True) \n",
    "\n",
    "path_save = current_dir + \"graph_data.zip\"\n",
    "shutil.unpack_archive(path_save, folder_data_temp)"
   ]
  },
  {
   "attachments": {},
   "cell_type": "markdown",
   "metadata": {},
   "source": [
    "#### Custom PyTorch Datasets"
   ]
  },
  {
   "cell_type": "code",
   "execution_count": 3,
   "metadata": {},
   "outputs": [],
   "source": [
    "\"\"\" Classification Dataset \"\"\"\n",
    "class DGLDatasetClass(torch.utils.data.Dataset):\n",
    "    def __init__(self, address):\n",
    "            self.address=address+\".bin\"\n",
    "            self.list_graphs, train_labels_masks_globals = dgl.load_graphs(self.address)\n",
    "            num_graphs =len(self.list_graphs)\n",
    "            self.labels = train_labels_masks_globals[\"labels\"].view(num_graphs,-1)\n",
    "            self.masks = train_labels_masks_globals[\"masks\"].view(num_graphs,-1)\n",
    "            self.globals = train_labels_masks_globals[\"globals\"].view(num_graphs,-1)\n",
    "    def __len__(self):\n",
    "        return len(self.list_graphs)\n",
    "    def __getitem__(self, idx):\n",
    "        return  self.list_graphs[idx], self.labels[idx], self.masks[idx], self.globals[idx]"
   ]
  },
  {
   "attachments": {},
   "cell_type": "markdown",
   "metadata": {},
   "source": [
    "#### Defining Train, Validation, and Test Set"
   ]
  },
  {
   "cell_type": "code",
   "execution_count": 4,
   "metadata": {},
   "outputs": [
    {
     "name": "stdout",
     "output_type": "stream",
     "text": [
      "1210 151 152\n"
     ]
    }
   ],
   "source": [
    "path_data_temp = folder_data_temp + \"scaffold\"+\"_\"+str(0)\n",
    "train_set = DGLDatasetClass(address=path_data_temp+\"_train\")\n",
    "val_set = DGLDatasetClass(address=path_data_temp+\"_val\")\n",
    "test_set = DGLDatasetClass(address=path_data_temp+\"_test\")\n",
    "\n",
    "print(len(train_set), len(val_set), len(test_set))\n"
   ]
  },
  {
   "attachments": {},
   "cell_type": "markdown",
   "metadata": {},
   "source": [
    "#### Data Loader"
   ]
  },
  {
   "cell_type": "code",
   "execution_count": 5,
   "metadata": {},
   "outputs": [],
   "source": [
    "def collate(batch):\n",
    "    # batch is a list of tuples (graphs, labels, masks, globals)\n",
    "    # Concatenate a sequence of graphs\n",
    "    graphs = [e[0] for e in batch]\n",
    "    g = dgl.batch(graphs)\n",
    "\n",
    "    # Concatenate a sequence of tensors (labels) along a new dimension\n",
    "    labels = [e[1] for e in batch]\n",
    "    labels = torch.stack(labels, 0)\n",
    "\n",
    "    # Concatenate a sequence of tensors (masks) along a new dimension\n",
    "    masks = [e[2] for e in batch]\n",
    "    masks = torch.stack(masks, 0)\n",
    "\n",
    "    # Concatenate a sequence of tensors (globals) along a new dimension\n",
    "    globals = [e[3] for e in batch]\n",
    "    globals = torch.stack(globals, 0)\n",
    "\n",
    "    return g, labels, masks, globals\n",
    "\n",
    "\n",
    "def loader(batch_size=64):\n",
    "    train_dataloader = DataLoader(train_set,\n",
    "                              batch_size=batch_size,\n",
    "                              collate_fn=collate,\n",
    "                              drop_last=False,\n",
    "                              shuffle=True,\n",
    "                              num_workers=1)\n",
    "\n",
    "    val_dataloader =  DataLoader(val_set,\n",
    "                             batch_size=batch_size,\n",
    "                             collate_fn=collate,\n",
    "                             drop_last=False,\n",
    "                             shuffle=False,\n",
    "                             num_workers=1)\n",
    "\n",
    "    test_dataloader = DataLoader(test_set,\n",
    "                             batch_size=batch_size,\n",
    "                             collate_fn=collate,\n",
    "                             drop_last=False,\n",
    "                             shuffle=False,\n",
    "                             num_workers=1)\n",
    "    return train_dataloader, val_dataloader, test_dataloader"
   ]
  },
  {
   "cell_type": "code",
   "execution_count": 6,
   "metadata": {},
   "outputs": [],
   "source": [
    "train_dataloader, val_dataloader, test_dataloader = loader(batch_size=64) "
   ]
  },
  {
   "attachments": {},
   "cell_type": "markdown",
   "metadata": {},
   "source": [
    "#### Defining A GNN"
   ]
  },
  {
   "attachments": {},
   "cell_type": "markdown",
   "metadata": {},
   "source": [
    "##### Some Variables"
   ]
  },
  {
   "cell_type": "code",
   "execution_count": 7,
   "metadata": {},
   "outputs": [],
   "source": [
    "#Bace dataset has 1 task. Some other datasets may have some more number of tasks, e.g., tox21 has 12 tasks.\n",
    "num_tasks = 1 \n",
    "\n",
    "# Size of global feature of each graph \n",
    "global_size = 200 \n",
    "\n",
    "# Number of epochs to train the model\n",
    "num_epochs = 100 \n",
    "\n",
    "# Number of steps to wait if the model performance on the validation set does not improve\n",
    "patience = 10 \n",
    "\n",
    "#Configurations to instantiate the model\n",
    "config = {\"node_feature_size\":127, \"edge_feature_size\":12, \"hidden_size\":100} \n"
   ]
  },
  {
   "cell_type": "code",
   "execution_count": 8,
   "metadata": {},
   "outputs": [],
   "source": [
    "class GNN(nn.Module):\n",
    "    def __init__(self, config, global_size = 200, num_tasks = 1):\n",
    "        super().__init__()\n",
    "        self.config = config\n",
    "        self.num_tasks = num_tasks\n",
    "        \n",
    "        # Node feature size\n",
    "        self.node_feature_size = self.config.get('node_feature_size', 127)\n",
    "\n",
    "        # Edge feature size\n",
    "        self.edge_feature_size = self.config.get('edge_feature_size', 12)\n",
    "\n",
    "        # Hidden size\n",
    "        self.hidden_size = self.config.get('hidden_size', 100)\n",
    "\n",
    "        self.conv1 = GraphConv(self.node_feature_size, self.hidden_size)\n",
    "        self.conv2 = GraphConv(self.hidden_size, self.num_tasks)\n",
    "\n",
    "    # def forward(self, g, in_feat):\n",
    "    def forward(self, mol_dgl_graph, globals):\n",
    "        mol_dgl_graph.ndata[\"v\"]= mol_dgl_graph.ndata[\"v\"][:,:self.node_feature_size]\n",
    "        mol_dgl_graph.edata[\"e\"] = mol_dgl_graph.edata[\"e\"][:,:self.edge_feature_size] \n",
    "        h = self.conv1(mol_dgl_graph, mol_dgl_graph.ndata[\"v\"])\n",
    "        h = F.relu(h)\n",
    "        h = self.conv2(mol_dgl_graph, h)\n",
    "        mol_dgl_graph.ndata[\"h\"] = h\n",
    "        return dgl.mean_nodes(mol_dgl_graph, \"h\")"
   ]
  },
  {
   "attachments": {},
   "cell_type": "markdown",
   "metadata": {},
   "source": [
    "#### Function to Compute Score of the Model"
   ]
  },
  {
   "cell_type": "code",
   "execution_count": 9,
   "metadata": {},
   "outputs": [],
   "source": [
    "from sklearn.metrics import roc_auc_score\n",
    "\n",
    "def compute_score(model, data_loader, val_size, num_tasks):\n",
    "    model.eval()\n",
    "    metric = roc_auc_score\n",
    "    with torch.no_grad():\n",
    "        prediction_all= torch.empty(0)\n",
    "        labels_all= torch.empty(0)\n",
    "        masks_all= torch.empty(0)\n",
    "        for i, (mol_dgl_graph, labels, masks, globals) in enumerate(data_loader):\n",
    "            prediction = model(mol_dgl_graph, globals)\n",
    "            prediction = torch.sigmoid(prediction)\n",
    "            prediction_all = torch.cat((prediction_all, prediction), 0)\n",
    "            labels_all = torch.cat((labels_all, labels), 0)\n",
    "            masks_all = torch.cat((masks_all, masks), 0)\n",
    "        average = torch.tensor([0.])\n",
    "        for i in range(num_tasks):\n",
    "            a1 = prediction_all[:, i][masks_all[:,i]==1]\n",
    "            a2 = labels_all[:, i][masks_all[:,i]==1]\n",
    "            try:\n",
    "                t = metric(a2.int().cpu(), a1.cpu()).item()\n",
    "            except ValueError:\n",
    "                t = 0\n",
    "            average += t\n",
    "    return average.item()/num_tasks"
   ]
  },
  {
   "cell_type": "markdown",
   "metadata": {},
   "source": [
    "#### Loss Function"
   ]
  },
  {
   "cell_type": "code",
   "execution_count": 10,
   "metadata": {},
   "outputs": [],
   "source": [
    "def loss_func(output, label, mask, num_tasks):\n",
    "    pos_weight = torch.ones((1, num_tasks))\n",
    "    pos_weight\n",
    "    criterion = torch.nn.BCEWithLogitsLoss(reduction='none', pos_weight=pos_weight)\n",
    "    loss = mask*criterion(output,label)\n",
    "    loss = loss.sum() / mask.sum()\n",
    "    return loss"
   ]
  },
  {
   "attachments": {},
   "cell_type": "markdown",
   "metadata": {},
   "source": [
    "#### Training and Evaluation"
   ]
  },
  {
   "attachments": {},
   "cell_type": "markdown",
   "metadata": {},
   "source": [
    "##### Training Function"
   ]
  },
  {
   "cell_type": "code",
   "execution_count": 11,
   "metadata": {},
   "outputs": [],
   "source": [
    "def train_epoch(train_dataloader, model, optimizer):\n",
    "    epoch_train_loss = 0\n",
    "    iterations = 0\n",
    "    model.train() # Prepare model for training\n",
    "    for i, (mol_dgl_graph, labels, masks, globals) in enumerate(train_dataloader):\n",
    "        prediction = model(mol_dgl_graph, globals)\n",
    "        loss_train = loss_func(prediction, labels, masks, num_tasks)\n",
    "        optimizer.zero_grad(set_to_none=True)\n",
    "        loss_train.backward()\n",
    "        optimizer.step()\n",
    "        epoch_train_loss += loss_train.detach().item()\n",
    "        iterations += 1\n",
    "    epoch_train_loss /= iterations\n",
    "    return epoch_train_loss"
   ]
  },
  {
   "cell_type": "code",
   "execution_count": 12,
   "metadata": {},
   "outputs": [],
   "source": [
    "def train_evaluate():\n",
    "\n",
    "    model = GNN(config, global_size, num_tasks)\n",
    "    optimizer = torch.optim.Adam(model.parameters(), lr = 0.0001)\n",
    "\n",
    "    best_val = 0\n",
    "    patience_count = 1\n",
    "    epoch = 1\n",
    "\n",
    "    while epoch <= num_epochs:\n",
    "        if patience_count <= patience:    \n",
    "            model.train()\n",
    "            loss_train = train_epoch(train_dataloader, model, optimizer)\n",
    "            model.eval()\n",
    "            score_val = compute_score(model, val_dataloader, len(val_set), num_tasks)\n",
    "            if score_val > best_val:\n",
    "                best_val = score_val\n",
    "                print(\"Save checkpoint\")\n",
    "                path = os.path.join(checkpoint_path, 'checkpoint.pth')\n",
    "                dict_checkpoint = {\"score_val\": score_val}\n",
    "                dict_checkpoint.update({\"model_state_dict\": model.state_dict(), \"optimizer_state\": optimizer.state_dict()})\n",
    "                with open(path, \"wb\") as outputfile:\n",
    "                    cloudpickle.dump(dict_checkpoint, outputfile)\n",
    "                patience_count = 1\n",
    "            else:\n",
    "                print(\"Patience\", patience_count)\n",
    "                patience_count += 1        \n",
    "\n",
    "            print(\"Epoch: {}/{} | Training Loss: {:.3f} | Valid Score: {:.3f}\".format(\n",
    "            epoch, num_epochs, loss_train, score_val))\n",
    "\n",
    "            print(\" \")\n",
    "            print(\"Epoch: {}/{} | Best Valid Score Until Now: {:.3f}\".format(epoch, num_epochs, best_val), \"\\n\")\n",
    "        epoch += 1\n",
    "\n",
    "    # best model save\n",
    "    shutil.rmtree(best_model_path, ignore_errors=True)\n",
    "    shutil.copytree(checkpoint_path, best_model_path)\n",
    "\n",
    "    print(\"Final results:\")        \n",
    "    print(\"Average Valid Score: {:.3f}\".format(np.mean(best_val)), \"\\n\")\n"
   ]
  },
  {
   "attachments": {},
   "cell_type": "markdown",
   "metadata": {},
   "source": [
    "##### Function to compute test set score of the final saved model"
   ]
  },
  {
   "cell_type": "code",
   "execution_count": 13,
   "metadata": {},
   "outputs": [],
   "source": [
    "def test_evaluate():  \n",
    "    final_model = GNN(config, global_size, num_tasks)\n",
    "    path = os.path.join(best_model_path, 'checkpoint.pth')\n",
    "    with open(path, 'rb') as f:\n",
    "        checkpoint = cloudpickle.load(f)\n",
    "    final_model.load_state_dict(checkpoint[\"model_state_dict\"])\n",
    "    final_model.eval()\n",
    "    test_score = compute_score(final_model, test_dataloader, len(test_set), num_tasks)\n",
    "\n",
    "    print(\"Test Score: {:.3f}\".format(test_score), \"\\n\")\n",
    "    print(\"Execution time: {:.3f} seconds\".format(time.time() - start_time))\n"
   ]
  },
  {
   "attachments": {},
   "cell_type": "markdown",
   "metadata": {},
   "source": [
    "##### Train the model and evaluate its performance"
   ]
  },
  {
   "cell_type": "code",
   "execution_count": 14,
   "metadata": {},
   "outputs": [
    {
     "name": "stdout",
     "output_type": "stream",
     "text": [
      "Save checkpoint\n",
      "Epoch: 1/100 | Training Loss: 0.686 | Valid Score: 0.562\n",
      " \n",
      "Epoch: 1/100 | Best Valid Score Until Now: 0.562 \n",
      "\n",
      "Save checkpoint\n",
      "Epoch: 2/100 | Training Loss: 0.686 | Valid Score: 0.567\n",
      " \n",
      "Epoch: 2/100 | Best Valid Score Until Now: 0.567 \n",
      "\n",
      "Save checkpoint\n",
      "Epoch: 3/100 | Training Loss: 0.685 | Valid Score: 0.574\n",
      " \n",
      "Epoch: 3/100 | Best Valid Score Until Now: 0.574 \n",
      "\n",
      "Save checkpoint\n",
      "Epoch: 4/100 | Training Loss: 0.684 | Valid Score: 0.581\n",
      " \n",
      "Epoch: 4/100 | Best Valid Score Until Now: 0.581 \n",
      "\n",
      "Save checkpoint\n",
      "Epoch: 5/100 | Training Loss: 0.683 | Valid Score: 0.587\n",
      " \n",
      "Epoch: 5/100 | Best Valid Score Until Now: 0.587 \n",
      "\n",
      "Save checkpoint\n",
      "Epoch: 6/100 | Training Loss: 0.683 | Valid Score: 0.595\n",
      " \n",
      "Epoch: 6/100 | Best Valid Score Until Now: 0.595 \n",
      "\n",
      "Save checkpoint\n",
      "Epoch: 7/100 | Training Loss: 0.682 | Valid Score: 0.601\n",
      " \n",
      "Epoch: 7/100 | Best Valid Score Until Now: 0.601 \n",
      "\n",
      "Save checkpoint\n",
      "Epoch: 8/100 | Training Loss: 0.681 | Valid Score: 0.604\n",
      " \n",
      "Epoch: 8/100 | Best Valid Score Until Now: 0.604 \n",
      "\n",
      "Patience 1\n",
      "Epoch: 9/100 | Training Loss: 0.681 | Valid Score: 0.600\n",
      " \n",
      "Epoch: 9/100 | Best Valid Score Until Now: 0.604 \n",
      "\n",
      "Save checkpoint\n",
      "Epoch: 10/100 | Training Loss: 0.680 | Valid Score: 0.604\n",
      " \n",
      "Epoch: 10/100 | Best Valid Score Until Now: 0.604 \n",
      "\n",
      "Save checkpoint\n",
      "Epoch: 11/100 | Training Loss: 0.679 | Valid Score: 0.609\n",
      " \n",
      "Epoch: 11/100 | Best Valid Score Until Now: 0.609 \n",
      "\n",
      "Save checkpoint\n",
      "Epoch: 12/100 | Training Loss: 0.679 | Valid Score: 0.610\n",
      " \n",
      "Epoch: 12/100 | Best Valid Score Until Now: 0.610 \n",
      "\n",
      "Save checkpoint\n",
      "Epoch: 13/100 | Training Loss: 0.678 | Valid Score: 0.612\n",
      " \n",
      "Epoch: 13/100 | Best Valid Score Until Now: 0.612 \n",
      "\n",
      "Patience 1\n",
      "Epoch: 14/100 | Training Loss: 0.677 | Valid Score: 0.612\n",
      " \n",
      "Epoch: 14/100 | Best Valid Score Until Now: 0.612 \n",
      "\n",
      "Save checkpoint\n",
      "Epoch: 15/100 | Training Loss: 0.677 | Valid Score: 0.613\n",
      " \n",
      "Epoch: 15/100 | Best Valid Score Until Now: 0.613 \n",
      "\n",
      "Save checkpoint\n",
      "Epoch: 16/100 | Training Loss: 0.676 | Valid Score: 0.616\n",
      " \n",
      "Epoch: 16/100 | Best Valid Score Until Now: 0.616 \n",
      "\n",
      "Patience 1\n",
      "Epoch: 17/100 | Training Loss: 0.675 | Valid Score: 0.615\n",
      " \n",
      "Epoch: 17/100 | Best Valid Score Until Now: 0.616 \n",
      "\n",
      "Save checkpoint\n",
      "Epoch: 18/100 | Training Loss: 0.675 | Valid Score: 0.616\n",
      " \n",
      "Epoch: 18/100 | Best Valid Score Until Now: 0.616 \n",
      "\n",
      "Save checkpoint\n",
      "Epoch: 19/100 | Training Loss: 0.674 | Valid Score: 0.618\n",
      " \n",
      "Epoch: 19/100 | Best Valid Score Until Now: 0.618 \n",
      "\n",
      "Save checkpoint\n",
      "Epoch: 20/100 | Training Loss: 0.674 | Valid Score: 0.619\n",
      " \n",
      "Epoch: 20/100 | Best Valid Score Until Now: 0.619 \n",
      "\n",
      "Save checkpoint\n",
      "Epoch: 21/100 | Training Loss: 0.673 | Valid Score: 0.620\n",
      " \n",
      "Epoch: 21/100 | Best Valid Score Until Now: 0.620 \n",
      "\n",
      "Save checkpoint\n",
      "Epoch: 22/100 | Training Loss: 0.673 | Valid Score: 0.620\n",
      " \n",
      "Epoch: 22/100 | Best Valid Score Until Now: 0.620 \n",
      "\n",
      "Save checkpoint\n",
      "Epoch: 23/100 | Training Loss: 0.672 | Valid Score: 0.621\n",
      " \n",
      "Epoch: 23/100 | Best Valid Score Until Now: 0.621 \n",
      "\n",
      "Save checkpoint\n",
      "Epoch: 24/100 | Training Loss: 0.672 | Valid Score: 0.622\n",
      " \n",
      "Epoch: 24/100 | Best Valid Score Until Now: 0.622 \n",
      "\n",
      "Patience 1\n",
      "Epoch: 25/100 | Training Loss: 0.671 | Valid Score: 0.622\n",
      " \n",
      "Epoch: 25/100 | Best Valid Score Until Now: 0.622 \n",
      "\n",
      "Patience 2\n",
      "Epoch: 26/100 | Training Loss: 0.671 | Valid Score: 0.620\n",
      " \n",
      "Epoch: 26/100 | Best Valid Score Until Now: 0.622 \n",
      "\n",
      "Save checkpoint\n",
      "Epoch: 27/100 | Training Loss: 0.671 | Valid Score: 0.624\n",
      " \n",
      "Epoch: 27/100 | Best Valid Score Until Now: 0.624 \n",
      "\n",
      "Patience 1\n",
      "Epoch: 28/100 | Training Loss: 0.670 | Valid Score: 0.620\n",
      " \n",
      "Epoch: 28/100 | Best Valid Score Until Now: 0.624 \n",
      "\n",
      "Patience 2\n",
      "Epoch: 29/100 | Training Loss: 0.669 | Valid Score: 0.620\n",
      " \n",
      "Epoch: 29/100 | Best Valid Score Until Now: 0.624 \n",
      "\n",
      "Patience 3\n",
      "Epoch: 30/100 | Training Loss: 0.669 | Valid Score: 0.623\n",
      " \n",
      "Epoch: 30/100 | Best Valid Score Until Now: 0.624 \n",
      "\n",
      "Patience 4\n",
      "Epoch: 31/100 | Training Loss: 0.668 | Valid Score: 0.620\n",
      " \n",
      "Epoch: 31/100 | Best Valid Score Until Now: 0.624 \n",
      "\n",
      "Save checkpoint\n",
      "Epoch: 32/100 | Training Loss: 0.668 | Valid Score: 0.624\n",
      " \n",
      "Epoch: 32/100 | Best Valid Score Until Now: 0.624 \n",
      "\n",
      "Patience 1\n",
      "Epoch: 33/100 | Training Loss: 0.668 | Valid Score: 0.624\n",
      " \n",
      "Epoch: 33/100 | Best Valid Score Until Now: 0.624 \n",
      "\n",
      "Patience 2\n",
      "Epoch: 34/100 | Training Loss: 0.667 | Valid Score: 0.619\n",
      " \n",
      "Epoch: 34/100 | Best Valid Score Until Now: 0.624 \n",
      "\n",
      "Patience 3\n",
      "Epoch: 35/100 | Training Loss: 0.667 | Valid Score: 0.622\n",
      " \n",
      "Epoch: 35/100 | Best Valid Score Until Now: 0.624 \n",
      "\n",
      "Patience 4\n",
      "Epoch: 36/100 | Training Loss: 0.667 | Valid Score: 0.624\n",
      " \n",
      "Epoch: 36/100 | Best Valid Score Until Now: 0.624 \n",
      "\n",
      "Patience 5\n",
      "Epoch: 37/100 | Training Loss: 0.666 | Valid Score: 0.620\n",
      " \n",
      "Epoch: 37/100 | Best Valid Score Until Now: 0.624 \n",
      "\n",
      "Patience 6\n",
      "Epoch: 38/100 | Training Loss: 0.666 | Valid Score: 0.620\n",
      " \n",
      "Epoch: 38/100 | Best Valid Score Until Now: 0.624 \n",
      "\n",
      "Patience 7\n",
      "Epoch: 39/100 | Training Loss: 0.665 | Valid Score: 0.619\n",
      " \n",
      "Epoch: 39/100 | Best Valid Score Until Now: 0.624 \n",
      "\n",
      "Patience 8\n",
      "Epoch: 40/100 | Training Loss: 0.665 | Valid Score: 0.620\n",
      " \n",
      "Epoch: 40/100 | Best Valid Score Until Now: 0.624 \n",
      "\n",
      "Patience 9\n",
      "Epoch: 41/100 | Training Loss: 0.664 | Valid Score: 0.619\n",
      " \n",
      "Epoch: 41/100 | Best Valid Score Until Now: 0.624 \n",
      "\n",
      "Patience 10\n",
      "Epoch: 42/100 | Training Loss: 0.664 | Valid Score: 0.619\n",
      " \n",
      "Epoch: 42/100 | Best Valid Score Until Now: 0.624 \n",
      "\n",
      "Final results:\n",
      "Average Valid Score: 0.624 \n",
      "\n",
      "Test Score: 0.555 \n",
      "\n",
      "Execution time: 19.250 seconds\n"
     ]
    }
   ],
   "source": [
    "import time\n",
    "start_time = time.time()\n",
    "\n",
    "train_evaluate()        \n",
    "test_evaluate()"
   ]
  }
 ],
 "metadata": {
  "kernelspec": {
   "display_name": "gml",
   "language": "python",
   "name": "python3"
  },
  "language_info": {
   "codemirror_mode": {
    "name": "ipython",
    "version": 3
   },
   "file_extension": ".py",
   "mimetype": "text/x-python",
   "name": "python",
   "nbconvert_exporter": "python",
   "pygments_lexer": "ipython3",
   "version": "3.10.9"
  },
  "orig_nbformat": 4
 },
 "nbformat": 4,
 "nbformat_minor": 2
}
