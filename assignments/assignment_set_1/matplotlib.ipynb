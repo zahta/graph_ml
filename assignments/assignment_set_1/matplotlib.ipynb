{
 "cells": [
  {
   "cell_type": "markdown",
   "metadata": {},
   "source": [
    "# <font color='brown'>Draw 2D and 3D Graphics with Matplotlib</font>"
   ]
  },
  {
   "cell_type": "markdown",
   "metadata": {},
   "source": [
    "## Introduction"
   ]
  },
  {
   "attachments": {
    "logo2.png": {
     "image/png": "[encoded data removed]"
    }
   },
   "cell_type": "markdown",
   "metadata": {},
   "source": [
    "![logo2.png](attachment:logo2.png)\n",
    "\n",
    "In the process of solving problems by using machine learning methods, you will definitely encounter scenarios that require drawing data. **Matplotlib** is an open source drawing library that supports **Python** language. As it supports rich drawing types, simple drawing methods and complete interface documentation, it is popular among Python engineers, researchers and data engineers.  What's more, **Matplotlib** has a very active community and stable version iterations. When we are learning machine learning courses, mastering the use of **Matplotlib** is undoubtedly one of the most important preparations. So, in this lab, we will learn how to use **Matplotlib** to draw 2D and 3D graphics."
   ]
  },
  {
   "cell_type": "markdown",
   "metadata": {},
   "source": [
    "### Knowledge Points\n",
    "\n",
    "The main points covered in this experiment are:\n",
    "- The API compatible with MATLAB code style \n",
    "- Diagram name, axis name and legend\n",
    "- Line style, color and transparency\n",
    "- Canvas grid and axis range\n",
    "- Other 2D graphics\n",
    "- 3D graphics"
   ]
  },
  {
   "cell_type": "markdown",
   "metadata": {},
   "source": [
    "### Environment\n",
    "\n",
    "- Python 3.6\n",
    "- Matplotlib: 2.2.2"
   ]
  },
  {
   "cell_type": "markdown",
   "metadata": {},
   "source": [
    "### Index \n",
    "\n",
    "- <a href=\"#1\">1. The API Compatible with MATLAB Code Style</a>\n",
    "- <a href=\"#2\">2. Matplotlib Object-Oriented API (Recommended)</a>\n",
    "- <a href=\"#3\">3. Summary</a>"
   ]
  },
  {
   "cell_type": "markdown",
   "metadata": {},
   "source": [
    "\n"
   ]
  },
  {
   "cell_type": "markdown",
   "metadata": {},
   "source": [
    "---"
   ]
  },
  {
   "cell_type": "markdown",
   "metadata": {},
   "source": [
    "When drawing in the **Notebook** environment, you need to run the `%matplotlib inline` command first. The purpose of this command is to embed the graphics drawn by `matplotlib` in the current page:"
   ]
  },
  {
   "cell_type": "code",
   "execution_count": null,
   "metadata": {},
   "outputs": [],
   "source": [
    "%matplotlib inline"
   ]
  },
  {
   "cell_type": "code",
   "execution_count": null,
   "metadata": {},
   "outputs": [],
   "source": [
    "# Practice in the blank cell. Do it yourself. Don't just copy and paste the code!\n"
   ]
  },
  {
   "cell_type": "markdown",
   "metadata": {},
   "source": [
    "## <a id = \"1\">1. The API Compatible with MATLAB Code Style </a>"
   ]
  },
  {
   "cell_type": "markdown",
   "metadata": {},
   "source": [
    "I believe that many students in science and engineering have used **MATLAB**, a high-level technical computing language and interactive environment for algorithm development, data visualization, data analysis and numerical computing. In **Matplotlib**, an API similar to MATLAB is also provided. For students who have used MATLAB, this will be the fastest way to get started with Matplotlib:"
   ]
  },
  {
   "cell_type": "code",
   "execution_count": null,
   "metadata": {},
   "outputs": [],
   "source": [
    "\"\"\" To use the compatible MATLAB API provided by matplotlib, you need to import the pylab module\n",
    "\"\"\"\n",
    "from matplotlib import pylab"
   ]
  },
  {
   "cell_type": "code",
   "execution_count": null,
   "metadata": {},
   "outputs": [],
   "source": []
  },
  {
   "cell_type": "code",
   "execution_count": null,
   "metadata": {},
   "outputs": [],
   "source": [
    "\"\"\"Use NumPy to generate random data\n",
    "\"\"\"\n",
    "import numpy as np\n",
    "\n",
    "x = np.linspace(0, 10, 20)\n",
    "y = x * x + 2"
   ]
  },
  {
   "cell_type": "code",
   "execution_count": null,
   "metadata": {},
   "outputs": [],
   "source": []
  },
  {
   "cell_type": "code",
   "execution_count": null,
   "metadata": {},
   "outputs": [],
   "source": [
    "\"\"\"It only takes 1 command to draw\n",
    "\"\"\"\n",
    "pylab.plot(x, y, 'r') # 'r' stands for red"
   ]
  },
  {
   "cell_type": "code",
   "execution_count": null,
   "metadata": {},
   "outputs": [],
   "source": []
  },
  {
   "cell_type": "markdown",
   "metadata": {},
   "source": [
    "If we want to draw a subgraph, we can use the `subplot` method:"
   ]
  },
  {
   "cell_type": "code",
   "execution_count": null,
   "metadata": {},
   "outputs": [],
   "source": [
    "\"\"\"Drawing a subgraph\n",
    "\"\"\"\n",
    "pylab.subplot(1,2,1) # The contents of the brackets represent (rows, columns, indexes)\n",
    "pylab.plot(x, y, 'r--') # The third parameter here determines color and line style\n",
    "\n",
    "pylab.subplot(1,2,2)\n",
    "pylab.plot(y, x, 'g*-')"
   ]
  },
  {
   "cell_type": "code",
   "execution_count": null,
   "metadata": {},
   "outputs": [],
   "source": []
  },
  {
   "cell_type": "markdown",
   "metadata": {},
   "source": [
    "The advantage of using a MATLAB-compatible API is that, if you are familiar with MATLAB, you will quickly get started with drawing using Python. However, in addition to some simple graphics, MATLAB-compatible APIs are **NOT** recommended.\n",
    "\n",
    "It is recommended to learn and use the object-oriented API provided by Matplotlib, which is more powerful and easier to use."
   ]
  },
  {
   "cell_type": "markdown",
   "metadata": {},
   "source": [
    "## <a id = \"1\">2. Matplotlib Object-Oriented API (Recommended)</a>"
   ]
  },
  {
   "cell_type": "code",
   "execution_count": null,
   "metadata": {},
   "outputs": [],
   "source": [
    "\"\"\"To use the object-oriented API provided by matplotlib, you need to import the pyplot module, and the convention is abbreviated as plt\n",
    "\"\"\"\n",
    "from matplotlib import pyplot as plt"
   ]
  },
  {
   "cell_type": "code",
   "execution_count": null,
   "metadata": {},
   "outputs": [],
   "source": []
  },
  {
   "cell_type": "code",
   "execution_count": null,
   "metadata": {},
   "outputs": [],
   "source": [
    "\"\"\"Method 1: Draw the same graphic as above\n",
    "\"\"\"\n",
    "fig = plt.figure() # New graphic object\n",
    "\n",
    "axes = fig.add_axes([0.5, 0.1, 0.8, 0.8]) # Control the left, right, width, height of the canvas (from 0 to 1)\n",
    "\n",
    "axes.plot(x, y, 'r')"
   ]
  },
  {
   "cell_type": "code",
   "execution_count": null,
   "metadata": {},
   "outputs": [],
   "source": []
  },
  {
   "cell_type": "markdown",
   "metadata": {},
   "source": [
    "<font color='brown'>**Key：**</font>\n",
    "In the code above, you may have questions about `figure` and `axes`. Matplotlib's API design fits well with the common sense, where `figure` is equivalent to a drawing board for painting and `axes` is equivalent to a canvas laid on the drawing board. We draw the image on the canvas, so we have operations like  `plot`, `set_xlabel` and so on:"
   ]
  },
  {
   "attachments": {
    "1957c95cde22910-2.jpg": {
     "image/jpeg": "[encoded data removed]"
    }
   },
   "cell_type": "markdown",
   "metadata": {},
   "source": [
    "<img width=\"300px\" src=\"attachment:1957c95cde22910-2.jpg\"></img>"
   ]
  },
  {
   "cell_type": "code",
   "execution_count": null,
   "metadata": {},
   "outputs": [],
   "source": [
    "\"\"\"Again, we can draw subgraphs\n",
    "\"\"\"\n",
    "fig, axes = plt.subplots(nrows=1, ncols=2) # Submap is of 1 row, 2 columns\n",
    "\n",
    "for ax in axes:\n",
    "    ax.plot(x, y, 'r')"
   ]
  },
  {
   "cell_type": "code",
   "execution_count": null,
   "metadata": {},
   "outputs": [],
   "source": []
  },
  {
   "cell_type": "code",
   "execution_count": null,
   "metadata": {},
   "outputs": [],
   "source": [
    "\"\"\"We can also draw a picture inside another picture\n",
    "\"\"\"\n",
    "fig = plt.figure() # New drawing board\n",
    "\n",
    "axes1 = fig.add_axes([0.1, 0.1, 0.8, 0.8]) # Big canvas\n",
    "axes2 = fig.add_axes([0.2, 0.5, 0.4, 0.3]) # Small canvas\n",
    "\n",
    "# Big drawing board\n",
    "axes1.plot(x, y, 'r')\n",
    "\n",
    "# Small drawing board\n",
    "axes2.plot(y, x, 'g')"
   ]
  },
  {
   "cell_type": "code",
   "execution_count": null,
   "metadata": {},
   "outputs": [],
   "source": []
  },
  {
   "cell_type": "markdown",
   "metadata": {},
   "source": [
    "<font color='brown'>**Tips：**</font>\n",
    "In the code above, you have learned to add the canvas `axes` to the drawing board `figure` we set, by using the `add_axes()` method. In Matplotlib, there is also a way to add a canvas: `plt.subplots()`. **This and the `axes` are all equivalent to canvas:**"
   ]
  },
  {
   "cell_type": "code",
   "execution_count": null,
   "metadata": {
    "scrolled": false
   },
   "outputs": [],
   "source": [
    "\"\"\"Method 2: Add a canvas by using plt.subplots()\n",
    "\"\"\"\n",
    "fig, axes = plt.subplots()\n",
    "\n",
    "axes.plot(x, y, 'r')"
   ]
  },
  {
   "cell_type": "code",
   "execution_count": null,
   "metadata": {},
   "outputs": [],
   "source": []
  },
  {
   "cell_type": "markdown",
   "metadata": {},
   "source": [
    "Matplotlib drawing is very flexible, we can also add a canvas with `add_subplot` and complete the drawing with `plt`."
   ]
  },
  {
   "cell_type": "code",
   "execution_count": null,
   "metadata": {},
   "outputs": [],
   "source": [
    "\"\"\"Method 3: Add a canvas by using add_subplot()\n",
    "\"\"\"\n",
    "fig = plt.figure() # New graphic object\n",
    "\n",
    "fig.add_subplot()\n",
    "\n",
    "plt.plot(x, y, 'r')"
   ]
  },
  {
   "cell_type": "code",
   "execution_count": null,
   "metadata": {},
   "outputs": [],
   "source": []
  },
  {
   "cell_type": "markdown",
   "metadata": {},
   "source": [
    "For the three methods of adding canvas mentioned above, you may they are a little messy. In general, you only need to be familiar with one of them, and it is recommended to use `plt.subplots()`, as many of the following examples will be expanded using it.\n",
    "\n",
    "In addition, since we have a drawing board and a canvas, should we also be able to adjust the size and shape of the two? Of course!"
   ]
  },
  {
   "cell_type": "code",
   "execution_count": null,
   "metadata": {
    "scrolled": false
   },
   "outputs": [],
   "source": [
    "\"\"\" Adjusts canvas size and display accuracy\n",
    "\"\"\"\n",
    "fig, axes = plt.subplots(figsize=(16,9), dpi=50) # Adjust the size with figsize and adjust the display accuracy with dpi"
   ]
  },
  {
   "cell_type": "code",
   "execution_count": null,
   "metadata": {},
   "outputs": [],
   "source": []
  },
  {
   "cell_type": "markdown",
   "metadata": {},
   "source": [
    "### 2.1 Graph Name, Axis name and Legend"
   ]
  },
  {
   "cell_type": "code",
   "execution_count": null,
   "metadata": {},
   "outputs": [],
   "source": [
    "\"\"\"Set the picture title\n",
    "\"\"\"\n",
    "ax.set_title(\"title\")"
   ]
  },
  {
   "cell_type": "code",
   "execution_count": null,
   "metadata": {},
   "outputs": [],
   "source": []
  },
  {
   "cell_type": "code",
   "execution_count": null,
   "metadata": {},
   "outputs": [],
   "source": [
    "\"\"\"Set the axis names\n",
    "\"\"\"\n",
    "ax.set_xlabel(\"x\")\n",
    "ax.set_ylabel(\"y\")"
   ]
  },
  {
   "cell_type": "code",
   "execution_count": null,
   "metadata": {},
   "outputs": [],
   "source": []
  },
  {
   "cell_type": "code",
   "execution_count": null,
   "metadata": {},
   "outputs": [],
   "source": [
    "\"\"\"Set the legend\n",
    "\"\"\"\n",
    "ax.legend([\"label1\", \"label2\"])"
   ]
  },
  {
   "cell_type": "code",
   "execution_count": null,
   "metadata": {},
   "outputs": [],
   "source": []
  },
  {
   "cell_type": "markdown",
   "metadata": {},
   "source": [
    "Examples are as follows:"
   ]
  },
  {
   "cell_type": "code",
   "execution_count": null,
   "metadata": {},
   "outputs": [],
   "source": [
    "\"\"\"Draw a graph containing the titles of the diagram, the title of the axes, and the legend\n",
    "\"\"\"\n",
    "fig, axes = plt.subplots()\n",
    "\n",
    "axes.set_xlabel('x label')\n",
    "axes.set_ylabel('y label')\n",
    "axes.set_title('title')\n",
    "\n",
    "axes.plot(x, x**2)\n",
    "axes.plot(x, x**3)\n",
    "axes.legend([\"y = x**2\", \"y = x**3\"], loc=2)"
   ]
  },
  {
   "cell_type": "code",
   "execution_count": null,
   "metadata": {},
   "outputs": [],
   "source": []
  },
  {
   "cell_type": "markdown",
   "metadata": {},
   "source": [
    "The `loc` parameter in the legend marks the position of the legend; `1`, `2`, `3` and `4` represent: _upper right corner_, _upper left corner_, _lower left corner_ and _lower right corner_; and `0` represents _adaptive_."
   ]
  },
  {
   "cell_type": "markdown",
   "metadata": {},
   "source": [
    "### 2.2 Line Type, Color and Transparency\n"
   ]
  },
  {
   "cell_type": "markdown",
   "metadata": {},
   "source": [
    "In `Matplotlib`, you can set other properties such as line color, transparency, and more."
   ]
  },
  {
   "cell_type": "code",
   "execution_count": null,
   "metadata": {},
   "outputs": [],
   "source": [
    "\"\"\"Set the color and transparency of the line\n",
    "\"\"\"\n",
    "fig, axes = plt.subplots()\n",
    "\n",
    "axes.plot(x, x+1, color=\"red\", alpha=0.5)\n",
    "axes.plot(x, x+2, color=\"#1155dd\")\n",
    "axes.plot(x, x+3, color=\"#15cc55\")"
   ]
  },
  {
   "cell_type": "code",
   "execution_count": null,
   "metadata": {},
   "outputs": [],
   "source": []
  },
  {
   "cell_type": "markdown",
   "metadata": {},
   "source": [
    "For the **line type**, in addition to _solid line_ and _dotted line_, there are many rich line types to choose from:"
   ]
  },
  {
   "cell_type": "code",
   "execution_count": null,
   "metadata": {},
   "outputs": [],
   "source": [
    "\"\"\"Set line type\n",
    "\"\"\"\n",
    "fig, ax = plt.subplots(figsize=(12,6))\n",
    "\n",
    "# Line width\n",
    "ax.plot(x, x+1, color=\"blue\", linewidth=0.25)\n",
    "ax.plot(x, x+2, color=\"blue\", linewidth=0.50)\n",
    "ax.plot(x, x+3, color=\"blue\", linewidth=1.00)\n",
    "ax.plot(x, x+4, color=\"blue\", linewidth=2.00)\n",
    "\n",
    "# Dotted line  \n",
    "ax.plot(x, x+5, color=\"red\", lw=2, linestyle='-')\n",
    "ax.plot(x, x+6, color=\"red\", lw=2, ls='-.')\n",
    "ax.plot(x, x+7, color=\"red\", lw=2, ls=':')\n",
    "\n",
    "# Dotted line's interlaced width\n",
    "line, = ax.plot(x, x+8, color=\"black\", lw=1.50)\n",
    "line.set_dashes([5, 10, 15, 10])\n",
    "\n",
    "# Markers\n",
    "ax.plot(x, x+ 9, color=\"green\", lw=2, ls='--', marker='+')\n",
    "ax.plot(x, x+10, color=\"green\", lw=2, ls='--', marker='o')\n",
    "ax.plot(x, x+11, color=\"green\", lw=2, ls='--', marker='s')\n",
    "ax.plot(x, x+12, color=\"green\", lw=2, ls='--', marker='1')\n",
    "\n",
    "# Markers sizes and colors\n",
    "ax.plot(x, x+13, color=\"purple\", lw=1, ls='-', marker='o', markersize=2)\n",
    "ax.plot(x, x+14, color=\"purple\", lw=1, ls='-', marker='o', markersize=4)\n",
    "ax.plot(x, x+15, color=\"purple\", lw=1, ls='-', marker='o', markersize=8, markerfacecolor=\"red\")\n",
    "ax.plot(x, x+16, color=\"purple\", lw=1, ls='-', marker='s', markersize=8, \n",
    "        markerfacecolor=\"yellow\", markeredgewidth=2, markeredgecolor=\"blue\")"
   ]
  },
  {
   "cell_type": "code",
   "execution_count": null,
   "metadata": {},
   "outputs": [],
   "source": []
  },
  {
   "cell_type": "markdown",
   "metadata": {},
   "source": [
    "### 2.3 Canvas Grid and Axis Range"
   ]
  },
  {
   "cell_type": "markdown",
   "metadata": {},
   "source": [
    "Sometimes we may need to display the canvas grid or adjust the axis range:"
   ]
  },
  {
   "cell_type": "code",
   "execution_count": null,
   "metadata": {
    "scrolled": false
   },
   "outputs": [],
   "source": [
    "\"\"\" Set the canvas grid and axis range\n",
    "\"\"\"\n",
    "fig, axes = plt.subplots(1, 2, figsize=(10,5))\n",
    "\n",
    "# Display the grid\n",
    "Axes[0].plot(x, x**2, x, x**3, lw=2)\n",
    "Axes[0].grid(True)\n",
    "\n",
    "# Set the axis range\n",
    "Axes[1].plot(x, x**2, x, x**3)\n",
    "Axes[1].set_ylim([0, 60])\n",
    "Axes[1].set_xlim([2, 5])"
   ]
  },
  {
   "cell_type": "code",
   "execution_count": null,
   "metadata": {},
   "outputs": [],
   "source": []
  },
  {
   "cell_type": "markdown",
   "metadata": {},
   "source": [
    "### 2.4 Other 2D Graphics"
   ]
  },
  {
   "cell_type": "markdown",
   "metadata": {},
   "source": [
    "In addition to _line graphs_, Matplotlib also supports drawing common plots such as _scatter plots_, _histograms_ and more:"
   ]
  },
  {
   "cell_type": "code",
   "execution_count": null,
   "metadata": {},
   "outputs": [],
   "source": [
    "\"\"\"Draw scatter plot, step plot, bar chart and area chart\n",
    "\"\"\"\n",
    "n = np.array([0,1,2,3,4,5])\n",
    "\n",
    "fig, axes = plt.subplots(1, 4, figsize=(16,5))\n",
    "\n",
    "axes[0].scatter(x, x + 0.25*np.random.randn(len(x)))\n",
    "axes[0].set_title(\"scatter\")\n",
    "\n",
    "axes[1].step(n, n**2, lw=2)\n",
    "axes[1].set_title(\"step\")\n",
    "\n",
    "axes[2].bar(n, n**2, align=\"center\", width=0.5, alpha=0.5)\n",
    "axes[2].set_title(\"bar\")\n",
    "\n",
    "axes[3].fill_between(x, x**2, x**3, color=\"green\", alpha=0.5)\n",
    "axes[3].set_title(\"fill_between\")"
   ]
  },
  {
   "cell_type": "code",
   "execution_count": null,
   "metadata": {},
   "outputs": [],
   "source": []
  },
  {
   "cell_type": "code",
   "execution_count": null,
   "metadata": {},
   "outputs": [],
   "source": [
    "\"\"\"Draw a radar chart\n",
    "\"\"\"\n",
    "fig = plt.figure(figsize=(6,6))\n",
    "ax = fig.add_axes([0.0, 0.0, .6, .6], polar=True)\n",
    "t = np.linspace(0, 2 * np.pi, 100)\n",
    "ax.plot(t, t, color='blue', lw=3)"
   ]
  },
  {
   "cell_type": "code",
   "execution_count": null,
   "metadata": {},
   "outputs": [],
   "source": []
  },
  {
   "cell_type": "code",
   "execution_count": null,
   "metadata": {},
   "outputs": [],
   "source": [
    "\"\"\"Draw a histogram\n",
    "\"\"\"\n",
    "n = np.random.randn(100000)\n",
    "fig, axes = plt.subplots(1, 2, figsize=(12,4))\n",
    "\n",
    "axes[0].hist(n)\n",
    "axes[0].set_title(\"Default histogram\")\n",
    "axes[0].set_xlim((min(n), max(n)))\n",
    "\n",
    "axes[1].hist(n, cumulative=True, bins=50)\n",
    "axes[1].set_title(\"Cumulative detailed histogram\")\n",
    "axes[1].set_xlim((min(n), max(n)))"
   ]
  },
  {
   "cell_type": "code",
   "execution_count": null,
   "metadata": {},
   "outputs": [],
   "source": []
  },
  {
   "cell_type": "code",
   "execution_count": null,
   "metadata": {},
   "outputs": [],
   "source": [
    "# Generate sample data\n",
    "alpha = 0.7\n",
    "phi_ext = 2 * np.pi * 0.5\n",
    "\n",
    "def flux_qubit_potential(phi_m, phi_p):\n",
    "    return 2 + alpha - 2 * np.cos(phi_p) * np.cos(phi_m) - alpha * np.cos(phi_ext - 2*phi_p)\n",
    "\n",
    "phi_m = np.linspace(0, 2*np.pi, 100)\n",
    "phi_p = np.linspace(0, 2*np.pi, 100)\n",
    "X,Y = np.meshgrid(phi_p, phi_m)\n",
    "Z = flux_qubit_potential(X, Y).T"
   ]
  },
  {
   "cell_type": "code",
   "execution_count": null,
   "metadata": {},
   "outputs": [],
   "source": []
  },
  {
   "cell_type": "code",
   "execution_count": null,
   "metadata": {
    "scrolled": true
   },
   "outputs": [],
   "source": [
    "\"\"\"Draw contour image\n",
    "\"\"\"\n",
    "fig, ax = plt.subplots()\n",
    "\n",
    "cnt = ax.contour(Z, cmap=plt.cm.RdBu, vmin=abs(Z).min(), vmax=abs(Z).max(), extent=[0, 1, 0, 1])"
   ]
  },
  {
   "cell_type": "code",
   "execution_count": null,
   "metadata": {},
   "outputs": [],
   "source": []
  },
  {
   "cell_type": "markdown",
   "metadata": {},
   "source": [
    "### 2.5 3D Graphics"
   ]
  },
  {
   "cell_type": "markdown",
   "metadata": {},
   "source": [
    "In the process of drawing 3D graphics with Matplotlib, first we need to import the `Axes3D` class and specify the 3D graphic to draw with the `projection='3d'` parameter. Since the drawing of 3D graphics is not often encountered in machine learning, there will be no more introduction here:"
   ]
  },
  {
   "cell_type": "code",
   "execution_count": null,
   "metadata": {},
   "outputs": [],
   "source": [
    "\"\"\"Draw 3D surface image\n",
    "\"\"\"\n",
    "from mpl_toolkits.mplot3d.axes3d import Axes3D\n",
    "\n",
    "fig = plt.figure(figsize=(14,6))\n",
    "\n",
    "# Specify the 3D graphics to draw, with projection='3d'\n",
    "ax = fig.add_subplot(1, 2, 1, projection='3d')\n",
    "ax.plot_surface(X, Y, Z, rstride=4, cstride=4, linewidth=0)"
   ]
  },
  {
   "cell_type": "code",
   "execution_count": null,
   "metadata": {},
   "outputs": [],
   "source": []
  },
  {
   "cell_type": "markdown",
   "metadata": {},
   "source": [
    "<font color='brown'>**Tips：**</font>\n",
    "When we draw 3D graphics in the desktop environment, we can drag the angles arbitrarily by the mouse, but it is not supported in the current environment."
   ]
  },
  {
   "cell_type": "markdown",
   "metadata": {},
   "source": [
    "Next let's draw a beautiful and complicated 3D graphic:"
   ]
  },
  {
   "cell_type": "code",
   "execution_count": null,
   "metadata": {},
   "outputs": [],
   "source": [
    "\"\"\"Draw a beautiful and complicated 3D graphic.\n",
    "\"\"\"\n",
    "fig = plt.figure(figsize=(8,6))\n",
    "\n",
    "ax = fig.add_subplot(1,1,1, projection='3d')\n",
    "\n",
    "ax.plot_surface(X, Y, Z, rstride=4, cstride=4, alpha=0.25)\n",
    "cset = ax.contour(X, Y, Z, zdir='z', offset=-np.pi, cmap=plt.cm.coolwarm)\n",
    "cset = ax.contour(X, Y, Z, zdir='x', offset=-np.pi, cmap=plt.cm.coolwarm)\n",
    "cset = ax.contour(X, Y, Z, zdir='y', offset=3*np.pi, cmap=plt.cm.coolwarm)\n",
    "\n",
    "ax.set_xlim3d(-np.pi, 2*np.pi)\n",
    "ax.set_ylim3d(0, 3*np.pi)\n",
    "ax.set_zlim3d(-np.pi, 2*np.pi)"
   ]
  },
  {
   "cell_type": "code",
   "execution_count": null,
   "metadata": {},
   "outputs": [],
   "source": []
  },
  {
   "cell_type": "markdown",
   "metadata": {},
   "source": [
    "## <a id = \"3\">3. Summary</a>\n",
    "\n",
    "Through this course, I believe that you have mastered the methods and techniques for drawing with Matplotlib. These contents are sufficient for machine learning courses. Of course, if you are interested in Matplotlib, you can learn more about it through other courses in LabEx. \n",
    "\n",
    "The main points covered in this experiment are:\n",
    "\n",
    "- The API compatible with MATLAB code style\n",
    "- Diagram name, axis name and legend\n",
    "- Line style, color and transparency\n",
    "- Canvas grid and axis range\n",
    "- Other 2D graphics\n",
    "- 3D graphics"
   ]
  },
  {
   "cell_type": "markdown",
   "metadata": {},
   "source": [
    "---"
   ]
  },
  {
   "cell_type": "markdown",
   "metadata": {},
   "source": [
    "<div style=\"color: #999;font-size: 12px;font-style: italic;\">*The content of this course is authorized by the author to be published in labex.io. Reproduction, downloading and illegal dissemination are prohibited without permission. Part of the experiment is compiled from: [Scientific Python Lectures by Robert Johansson](https://github.com/jrjohansson/scientific-python-lectures/blob/master/Lecture-4-Matplotlib.ipynb) .</div>"
   ]
  }
 ],
 "metadata": {
  "kernelspec": {
   "display_name": "Python 3",
   "language": "python",
   "name": "python3"
  },
  "language_info": {
   "codemirror_mode": {
    "name": "ipython",
    "version": 3
   },
   "file_extension": ".py",
   "mimetype": "text/x-python",
   "name": "python",
   "nbconvert_exporter": "python",
   "pygments_lexer": "ipython3",
   "version": "3.7.6"
  }
 },
 "nbformat": 4,
 "nbformat_minor": 2
}
